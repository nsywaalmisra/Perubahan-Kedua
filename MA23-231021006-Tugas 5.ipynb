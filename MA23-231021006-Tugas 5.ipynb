{
 "cells": [
  {
   "cell_type": "code",
   "execution_count": 2,
   "metadata": {},
   "outputs": [],
   "source": [
    "import numpy as np"
   ]
  },
  {
   "cell_type": "markdown",
   "metadata": {},
   "source": [
    "\n",
    "NumPy: dasar-dasar mutlak untuk pemula\n",
    "\n",
    "`1. PENGENALAN NumPy`\n",
    "\n",
    "NumPy (Numerical Python) adalah pustaka Python sumber terbuka yang digunakan di hampir semua bidang ilmu pengetahuan dan teknik. NumPy adalah standar universal untuk bekerja dengan data numerik dalam Python, dan merupakan inti dari ekosistem Python ilmiah dan PyData. Pengguna NumPy mencakup semua orang, mulai dari pembuat kode pemula hingga peneliti berpengalaman yang melakukan penelitian dan pengembangan ilmiah dan industri mutakhir. API NumPy digunakan secara luas di Pandas, SciPy, Matplotlib, scikit-learn, scikit-image, dan sebagian besar paket Python sains dan ilmiah lainnya.\n",
    "\n",
    "NumPy menyediakan ndarray, sebuah objek larik n-dimensi yang homogen, dengan metode-metode untuk mengoperasikannya secara efisien. NumPy dapat digunakan untuk melakukan berbagai macam operasi matematika pada larik. NumPy menambahkan struktur data yang kuat ke dalam Python yang menjamin perhitungan yang efisien dengan larik dan matriks, serta menyediakan pustaka fungsi matematika tingkat tinggi yang sangat banyak yang beroperasi pada larik dan matriks."
   ]
  },
  {
   "cell_type": "markdown",
   "metadata": {},
   "source": [
    "`2. CARA MENGINSTAL NumPy`\n",
    "\n",
    "Jika Anda sudah memiliki Python, Anda dapat menginstal NumPy dengan :"
   ]
  },
  {
   "cell_type": "code",
   "execution_count": 3,
   "metadata": {},
   "outputs": [
    {
     "name": "stdout",
     "output_type": "stream",
     "text": [
      "Note: you may need to restart the kernel to use updated packages.\n"
     ]
    },
    {
     "name": "stderr",
     "output_type": "stream",
     "text": [
      "ERROR: unknown command \"instal\" - maybe you meant \"install\"\n",
      "\n"
     ]
    }
   ],
   "source": [
    "pip instal numpy"
   ]
  },
  {
   "cell_type": "markdown",
   "metadata": {},
   "source": [
    "`3. CARA MENGIMPOR NumPy`"
   ]
  },
  {
   "cell_type": "code",
   "execution_count": 4,
   "metadata": {},
   "outputs": [],
   "source": [
    "import numpy as np"
   ]
  },
  {
   "cell_type": "markdown",
   "metadata": {},
   "source": [
    "`4. MEMBACA CONTOH KODE`\n",
    "\n",
    "Jika Anda melihat >>>, Anda sedang melihat input, atau kode yang akan Anda masukkan. Segala sesuatu yang tidak memiliki >>> di depannya adalah output, atau hasil dari menjalankan kode Anda. Ini adalah gaya yang Anda lihat ketika Anda menjalankan python di baris perintah, tetapi jika Anda menggunakan IPython,"
   ]
  },
  {
   "cell_type": "code",
   "execution_count": 5,
   "metadata": {},
   "outputs": [
    {
     "name": "stdout",
     "output_type": "stream",
     "text": [
      "(1, 6)\n"
     ]
    }
   ],
   "source": [
    ">>> a = np.arange(6) \n",
    ">>> a2 = a[np.newaxis, :]\n",
    ">>> print(a2.shape)"
   ]
  },
  {
   "cell_type": "markdown",
   "metadata": {},
   "source": [
    "`5. APA PERBEDAAN ANTARA DAFTAR Python DAN LARIK NumPy ?`\n",
    "\n",
    "NumPy memberikan Anda banyak sekali cara cepat dan efisien untuk membuat larik dan memanipulasi data numerik di dalamnya. Meskipun sebuah daftar Python dapat berisi tipe\n",
    "data yang berbeda dalam satu daftar, semua elemen dalam larik NumPy harus homogen. Operasi matematika yang seharusnya dilakukan pada larik akan sangat tidak efisien jika larik tidak homogen.\n",
    "\n",
    "Mengapa menggunakan NumPy ?\n",
    "\n",
    "Larik NumPy lebih cepat dan lebih ringkas daripada daftar Python. Larik menggunakan lebih sedikit memori dan nyaman digunakan. NumPy menggunakan lebih sedikit memori untuk menyimpan data dan menyediakan mekanisme untuk menentukan tipe data. Hal ini memungkinkan kode dioptimalkan lebih jauh lagi."
   ]
  },
  {
   "cell_type": "markdown",
   "metadata": {},
   "source": [
    "`6. APA YANG DIMAKSUD DENGAN ARRAY ?`\n",
    "\n",
    "Larik adalah struktur data utama dari pustaka NumPy. Larik adalah sebuah larik nilai dan berisi informasi mengenai data mentah, bagaimana menemukan sebuah elemen, dan bagaimana menginterpretasikan sebuah elemen. Array memiliki kisi-kisi elemen yang dapat diindeks dengan berbagai cara. Elemen-elemen tersebut memiliki tipe yang sama, yang disebut sebagai dtype array.\n",
    "\n",
    "Larik dapat diindeks oleh tuple bilangan bulat nonnegatif, oleh boolean, oleh larik lain, atau oleh bilangan bulat. Pangkat larik adalah jumlah dimensi. Bentuk larik adalah sebuah tupel bilangan bulat yang memberikan ukuran larik di setiap dimensi. "
   ]
  },
  {
   "cell_type": "code",
   "execution_count": 6,
   "metadata": {},
   "outputs": [
    {
     "name": "stdout",
     "output_type": "stream",
     "text": [
      "[1 2 3 4]\n"
     ]
    }
   ],
   "source": [
    ">>> a = np.array([1, 2, 3, 4, 5, 6])\n",
    "\n",
    "#atau\n",
    "\n",
    ">>> a = np.array([[1, 2, 3, 4], [5, 6, 7, 8], [9, 10, 11, 12]])\n",
    ">>> print(a[0])"
   ]
  },
  {
   "cell_type": "markdown",
   "metadata": {},
   "source": [
    "`7. INFORMASI LEBIH LANJUT TENTANG ARRAY`\n",
    "\n",
    "Bagian ini mencakup larik 1D, larik 2D, ndarray, vektor, matriks.\n",
    "\n",
    "Anda mungkin sesekali mendengar larik yang disebut sebagai \"ndarray\", yang merupakan singkatan dari \"larik N-dimensi\". Larik N-dimensi adalah larik dengan sejumlah dimensi. Anda\n",
    "mungkin juga pernah mendengar larik 1-D, atau larik satu dimensi, 2-D, atau larik dua dimensi, dan seterusnya. Kelas NumPy ndarray digunakan untuk merepresentasikan matriks dan\n",
    "vektor. Sebuah vektor adalah sebuah larik dengan satu dimensi (tidak ada perbedaan antara vektor baris dan kolom), sedangkan\n",
    "matriks mengacu pada larik dengan dua dimensi. Untuk larik 3-D atau larik berdimensi lebih tinggi, istilah tensor juga biasa digunakan.\n",
    "\n",
    "`Apa saja atribut dari sebuah larik ?`\n",
    "\n",
    "Larik biasanya merupakan wadah dengan ukuran tetap untuk item dengan jenis dan ukuran yang sama. Jumlah dimensi dan item dalam larik ditentukan oleh bentuknya. Bentuk larik adalah sebuah tupel bilangan bulat non-negatif yang menentukan ukuran setiap dimensi. Di NumPy, dimensi disebut sumbu. Ini berarti bahwa jika Anda memiliki larik 2D yang terlihat\n",
    "seperti ini :"
   ]
  },
  {
   "cell_type": "code",
   "execution_count": 7,
   "metadata": {},
   "outputs": [
    {
     "name": "stdout",
     "output_type": "stream",
     "text": [
      "[[0. 0. 0.]\n",
      " [1. 1. 1.]]\n"
     ]
    }
   ],
   "source": [
    "A = np.array([[0., 0., 0.],\n",
    "              [1., 1., 1.]])\n",
    "print(A)"
   ]
  },
  {
   "cell_type": "markdown",
   "metadata": {},
   "source": [
    "Larik Anda memiliki 2 sumbu. Sumbu pertama memiliki panjang 2 dan sumbu kedua memiliki panjang 3.\n",
    "\n",
    "Atribut larik mencerminkan informasi yang melekat pada larik itu sendiri. Jika Anda perlu mendapatkan, atau bahkan mengatur, properti larik tanpa membuat larik baru, Anda dapat mengakses larik melalui atributnya."
   ]
  },
  {
   "cell_type": "markdown",
   "metadata": {},
   "source": [
    "`8. CARA MEMBUAT LARIK DASAR`\n",
    "\n",
    "Bagian ini mencakup np.array(), np.zeros(), np.ones(), np empty(), np.arange(), np.linspace(), dtype. Untuk membuat larik NumPy, Anda dapat menggunakan fungsi np.array()."
   ]
  },
  {
   "cell_type": "code",
   "execution_count": 8,
   "metadata": {},
   "outputs": [
    {
     "name": "stdout",
     "output_type": "stream",
     "text": [
      "[1 2 3]\n"
     ]
    }
   ],
   "source": [
    ">>> import numpy as np\n",
    "\n",
    ">>> a = np.array([1, 2, 3])\n",
    ">>> print(a)"
   ]
  },
  {
   "cell_type": "markdown",
   "metadata": {},
   "source": [
    "Selain membuat larik dari urutan elemen, Anda dapat dengan mudah membuat larik yang berisi angka 0:"
   ]
  },
  {
   "cell_type": "code",
   "execution_count": 9,
   "metadata": {},
   "outputs": [
    {
     "name": "stdout",
     "output_type": "stream",
     "text": [
      "[0. 0.]\n"
     ]
    }
   ],
   "source": [
    ">>> zeros_array = np.zeros(2)\n",
    ">>> print(zeros_array)"
   ]
  },
  {
   "cell_type": "markdown",
   "metadata": {},
   "source": [
    "larik yang diisi dengan angka 1 :"
   ]
  },
  {
   "cell_type": "code",
   "execution_count": 10,
   "metadata": {},
   "outputs": [
    {
     "name": "stdout",
     "output_type": "stream",
     "text": [
      "[1. 1.]\n"
     ]
    }
   ],
   "source": [
    ">>> ones_array = np.ones(2)\n",
    ">>> print(ones_array)"
   ]
  },
  {
   "cell_type": "markdown",
   "metadata": {},
   "source": [
    "Atau bahkan l a r i k kosong! Fungsi empty membuat larik yang isi awalnya acak dan bergantung pada kondisi memori. Alasan untuk menggunakan kosong daripada nol (atau sesuatu yang serupa) adalah kecepatan - pastikan untuk mengisi setiap elemen setelahnya !"
   ]
  },
  {
   "cell_type": "code",
   "execution_count": 11,
   "metadata": {},
   "outputs": [
    {
     "name": "stdout",
     "output_type": "stream",
     "text": [
      "[1. 1.]\n"
     ]
    }
   ],
   "source": [
    ">>> empty_array = np.empty(2)\n",
    ">>> print(empty_array)"
   ]
  },
  {
   "cell_type": "markdown",
   "metadata": {},
   "source": [
    "Anda dapat membuat larik dengan sejumlah elemen :"
   ]
  },
  {
   "cell_type": "code",
   "execution_count": 12,
   "metadata": {},
   "outputs": [
    {
     "name": "stdout",
     "output_type": "stream",
     "text": [
      "[0 1 2 3]\n"
     ]
    }
   ],
   "source": [
    ">>> array = np.arange(4)\n",
    ">>> print(array)"
   ]
  },
  {
   "cell_type": "markdown",
   "metadata": {},
   "source": [
    "Dan bahkan larik yang berisi kisaran interval dengan jarak yang sama. Untuk melakukan ini, Anda akan menentukan angka pertama, angka terakhir, dan ukuran langkah."
   ]
  },
  {
   "cell_type": "code",
   "execution_count": 13,
   "metadata": {},
   "outputs": [
    {
     "name": "stdout",
     "output_type": "stream",
     "text": [
      "[2 4 6 8]\n"
     ]
    }
   ],
   "source": [
    "arr = np.arange(2, 9, 2)\n",
    "print(arr)"
   ]
  },
  {
   "cell_type": "markdown",
   "metadata": {},
   "source": [
    "Anda juga dapat menggunakan np.linspace() untuk membuat larik dengan nilai yang diberi spasi linear dalam interval tertentu:"
   ]
  },
  {
   "cell_type": "code",
   "execution_count": 14,
   "metadata": {},
   "outputs": [
    {
     "name": "stdout",
     "output_type": "stream",
     "text": [
      "[ 0.   2.5  5.   7.5 10. ]\n"
     ]
    }
   ],
   "source": [
    "arr = np.linspace(0, 10, num=5)\n",
    "print(arr)"
   ]
  },
  {
   "cell_type": "markdown",
   "metadata": {},
   "source": [
    "Menentukan tipe data \n",
    "\n",
    "Meskipun tipe data default adalah floating point (np.float64), Anda dapat secara eksplisit menentukan tipe data yang Anda inginkan dengan menggunakan kata kunci dtype.\n"
   ]
  },
  {
   "cell_type": "code",
   "execution_count": 15,
   "metadata": {},
   "outputs": [
    {
     "name": "stdout",
     "output_type": "stream",
     "text": [
      "[1 1]\n"
     ]
    }
   ],
   "source": [
    "x = np.ones(2, dtype = np.int64)\n",
    "print(x)"
   ]
  },
  {
   "cell_type": "markdown",
   "metadata": {},
   "source": [
    "`9. MENAMBAHKAN, MENGHAPUS, DAN MENYORTIR ELEMEN`\n",
    "\n",
    "Bagian ini mencakup np.sort(), np.concatenate().\n",
    "\n",
    "Mengurutkan elemen sangat mudah dengan np.sort(). Anda dapat menentukan sumbu, jenis, dan urutan ketika Anda memanggil fungsi tersebut. Jika Anda memulai dengan array ini :"
   ]
  },
  {
   "cell_type": "code",
   "execution_count": 16,
   "metadata": {},
   "outputs": [
    {
     "name": "stdout",
     "output_type": "stream",
     "text": [
      "[1 2 3 4 5 6 7 8]\n"
     ]
    }
   ],
   "source": [
    "arr = np.array([2, 1, 5, 3, 7, 4, 6, 8])\n",
    "print(np.sort(arr))"
   ]
  },
  {
   "cell_type": "markdown",
   "metadata": {},
   "source": [
    "Selain mengurutkan, yang mengembalikan salinan larik yang diurutkan, Anda dapat menggunakan :\n",
    "- argsort, yang merupakan pengurutan tidak langsung di sepanjang sumbu tertentu,\n",
    "- lexsort, yang merupakan pengurutan stabil tidak langsung pada beberapa tombol,\n",
    "- pencarian terurut, yang akan menemukan elemen dalam larik terurut, dan\n",
    "- partisi, yang merupakan pengurutan parsial.\n",
    "\n",
    "Untuk membaca lebih lanjut tentang pengurutan array, lihat: sort.\n",
    "Jika Anda memulai dengan array ini :"
   ]
  },
  {
   "cell_type": "code",
   "execution_count": 17,
   "metadata": {},
   "outputs": [
    {
     "name": "stdout",
     "output_type": "stream",
     "text": [
      "[1 2 3 4 5 6 7 8]\n"
     ]
    }
   ],
   "source": [
    "a = np.array([1, 2, 3, 4])\n",
    "b = np.array([5, 6, 7, 8])\n",
    "\n",
    "# Anda dapat menggabungkannya dengan np.concatenate().\n",
    "print(np.concatenate((a, b)))"
   ]
  },
  {
   "cell_type": "markdown",
   "metadata": {},
   "source": [
    "Atau, jika Anda memulai dengan susunan ini :"
   ]
  },
  {
   "cell_type": "code",
   "execution_count": 18,
   "metadata": {},
   "outputs": [
    {
     "name": "stdout",
     "output_type": "stream",
     "text": [
      "[[1 2]\n",
      " [3 4]\n",
      " [5 6]]\n"
     ]
    }
   ],
   "source": [
    "x = np.array([[1, 2], [3, 4]])\n",
    "y = np.array([[5, 6]])\n",
    "\n",
    "# Anda dapat menggabungkannya dengan :\n",
    "print(np.concatenate((x, y), axis=0))"
   ]
  },
  {
   "cell_type": "markdown",
   "metadata": {},
   "source": [
    "`10. BAGAIMANA ANDA MENGETAHUI BENTUK DAN UKURAN ARRAY ?`\n",
    "\n",
    "Bagian ini mencakup ndarray.ndim, ndarray.size, ndarray.shape.\n",
    "ndarray.ndim akan memberi tahu Anda jumlah sumbu, atau dimensi, dari larik. ndarray.size akan memberi tahu Anda jumlah total elemen larik. Ini adalah hasil kali dari elemen-elemen bentuk larik.\n",
    "\n",
    "ndarray.shape akan menampilkan sebuah tupel bilangan bulat yang menunjukkan jumlah elemen yang disimpan di setiap dimensi larik. Misalnya, jika Anda memiliki larik 2-D dengan 2 baris dan 3 kolom, bentuk larik Anda adalah (2, 3).\n",
    "\n",
    "Contohnya, jika Anda membuat larik ini :"
   ]
  },
  {
   "cell_type": "code",
   "execution_count": 19,
   "metadata": {},
   "outputs": [
    {
     "name": "stdout",
     "output_type": "stream",
     "text": [
      "3\n"
     ]
    }
   ],
   "source": [
    "array_example = np.array([[[0, 1, 2, 3],\n",
    "                           [4, 5, 6, 7]],\n",
    "                          [[0, 1, 2, 3],\n",
    "                           [4, 5, 6, 7]],\n",
    "                          [[0 ,1 ,2, 3],\n",
    "                           [4, 5, 6, 7]]])\n",
    "# Untuk menemukan jumlah dimensi array, jalankan :\n",
    "print(array_example.ndim)"
   ]
  },
  {
   "cell_type": "code",
   "execution_count": 20,
   "metadata": {},
   "outputs": [
    {
     "name": "stdout",
     "output_type": "stream",
     "text": [
      "24\n"
     ]
    }
   ],
   "source": [
    "\n",
    "# Untuk menemukan jumlah total elemen dalam larik, jalankan :\n",
    "print(array_example.size)"
   ]
  },
  {
   "cell_type": "code",
   "execution_count": 21,
   "metadata": {},
   "outputs": [
    {
     "name": "stdout",
     "output_type": "stream",
     "text": [
      "(3, 2, 4)\n"
     ]
    }
   ],
   "source": [
    "\n",
    "# Dan untuk menemukan bentuk array Anda, jalankan :\n",
    "print(array_example.shape)"
   ]
  },
  {
   "cell_type": "markdown",
   "metadata": {},
   "source": [
    "`11. DAPATKAH ANDA MEMBENTUK ULANG SEBUAH LARIK ?`\n",
    "\n",
    "Bagian ini mencakup arr.reshape(). \n",
    "\n",
    "Menggunakan arr.reshape() akan memberikan bentuk baru pada larik tanpa mengubah datanya. Ingatlah bahwa ketika Anda menggunakan metode reshape, larik yang ingin Anda buat harus memiliki jumlah elemen yang sama dengan larik aslinya. Jika Anda memulai dengan larik dengan 12 elemen, Anda harus memastikan bahwa larik baru Anda juga memiliki total 12 elemen.\n",
    "\n",
    "Jika Anda memulai dengan array ini :"
   ]
  },
  {
   "cell_type": "code",
   "execution_count": 22,
   "metadata": {},
   "outputs": [
    {
     "name": "stdout",
     "output_type": "stream",
     "text": [
      "[0 1 2 3 4 5]\n"
     ]
    }
   ],
   "source": [
    ">>> a = np.arange(6)\n",
    ">>> print(a)"
   ]
  },
  {
   "cell_type": "markdown",
   "metadata": {},
   "source": [
    "Anda dapat menggunakan reshape() untuk membentuk ulang larik Anda. Sebagai contoh, Anda dapat membentuk ulang larik ini menjadi larik dengan tiga baris dan dua kolom :"
   ]
  },
  {
   "cell_type": "code",
   "execution_count": 23,
   "metadata": {},
   "outputs": [
    {
     "name": "stdout",
     "output_type": "stream",
     "text": [
      "[[0 1]\n",
      " [2 3]\n",
      " [4 5]]\n"
     ]
    }
   ],
   "source": [
    ">>> b = a.reshape(3, 2)\n",
    ">>> print(b)"
   ]
  },
  {
   "cell_type": "markdown",
   "metadata": {},
   "source": [
    "Dengan np.reshape, Anda dapat menentukan beberapa parameter opsional :"
   ]
  },
  {
   "cell_type": "code",
   "execution_count": 24,
   "metadata": {},
   "outputs": [
    {
     "data": {
      "text/plain": [
       "array([[0, 1, 2, 3, 4, 5]])"
      ]
     },
     "execution_count": 24,
     "metadata": {},
     "output_type": "execute_result"
    }
   ],
   "source": [
    ">>> np.reshape(a, newshape = (1, 6), order = 'C')"
   ]
  },
  {
   "cell_type": "markdown",
   "metadata": {},
   "source": [
    "`a` adalah larik yang akan dibentuk ulang.\n",
    "\n",
    "`newshape` adalah bentuk baru yang Anda inginkan. Anda dapat menentukan sebuah bilangan bulat atau sebuah tupel bilangan bulat. Jika Anda menentukan bilangan bulat, hasilnya adalah larik dengan panjang tersebut. Bentuknya harus sesuai dengan bentuk aslinya.\n",
    "\n",
    "`order: C` berarti membaca/menulis elemen menggunakan urutan indeks seperti C, F berarti membaca/menulis elemen menggunakan urutan indeks seperti Fortran, A berarti membaca/menulis elemen dalam urutan indeks seperti Fortran jika a bersebelahan dengan Fortran dalam memori, urutan seperti C sebaliknya. (Ini adalah parameter opsional dan tidak perlu ditentukan).\n",
    "\n",
    "Pada dasarnya, urutan C dan Fortran berkaitan dengan bagaimana indeks sesuai dengan urutan larik yang disimpan dalam memori. Pada Fortran, ketika bergerak melalui elemen-elemen larik dua dimensi ketika disimpan di memori, indeks `pertama` adalah indeks yang paling cepat berubah. Ketika indeks pertama berpindah ke baris berikutnya saat berubah, matriks disimpan satu kolom pada satu waktu. Inilah sebabnya mengapa Fortran dianggap sebagai `bahasa` yang\n",
    "`mengutamakan kolom`. Di C di sisi lain, indeks `terakhir` berubah paling cepat. Matriks disimpan berdasarkan baris, menjadikannya sebagai `bahasa utama-Baris`. Apa yang Anda\n",
    "lakukan untuk C atau Fortran tergantung pada apakah lebih penting untuk mempertahankan konvensi pengindeksan atau tidak mengurutkan ulang data."
   ]
  },
  {
   "cell_type": "markdown",
   "metadata": {},
   "source": [
    "`12. CARA MENGONVERSI LARIK 1D MENJADI LARIK 2D (CARA MENAMBAHKAN SUMBU BARU KE LARIK)`\n",
    "\n",
    "Bagian ini mencakup np.newaxis, np.expand_dims.\n",
    "\n",
    "Anda dapat menggunakan np.newaxis dan np.expand_dims untuk menambah dimensi larik yang ada.\n",
    "\n",
    "Menggunakan np.newaxis akan meningkatkan dimensi larik Anda sebanyak satu dimensi ketika digunakan sekali. Ini berarti larik 1D akan menjadi larik 2D, larik 2D akan menjadi larik\n",
    "3D, dan seterusnya.\n",
    "\n",
    "Contohnya, jika Anda memulai dengan array ini :"
   ]
  },
  {
   "cell_type": "code",
   "execution_count": 25,
   "metadata": {},
   "outputs": [
    {
     "data": {
      "text/plain": [
       "(6,)"
      ]
     },
     "execution_count": 25,
     "metadata": {},
     "output_type": "execute_result"
    }
   ],
   "source": [
    ">>> a = np.array([1, 2, 3, 4, 5, 6])\n",
    ">>> a. shape"
   ]
  },
  {
   "cell_type": "markdown",
   "metadata": {},
   "source": [
    "Anda dapat menggunakan np.newaxis untuk menambahkan sumbu baru :"
   ]
  },
  {
   "cell_type": "code",
   "execution_count": 26,
   "metadata": {},
   "outputs": [
    {
     "data": {
      "text/plain": [
       "(1, 6)"
      ]
     },
     "execution_count": 26,
     "metadata": {},
     "output_type": "execute_result"
    }
   ],
   "source": [
    ">>> a2 = a[np.newaxis, :]\n",
    ">>> a2.shape"
   ]
  },
  {
   "cell_type": "markdown",
   "metadata": {},
   "source": [
    "Anda dapat secara eksplisit mengonversi larik 1D dengan vektor baris atau vektor kolom menggunakan np.newaxis. Sebagai contoh, Anda dapat mengonversi larik 1D menjadi vektor\n",
    "baris dengan menyisipkan sumbu di sepanjang dimensi pertama :"
   ]
  },
  {
   "cell_type": "code",
   "execution_count": 27,
   "metadata": {},
   "outputs": [
    {
     "data": {
      "text/plain": [
       "(1, 6)"
      ]
     },
     "execution_count": 27,
     "metadata": {},
     "output_type": "execute_result"
    }
   ],
   "source": [
    ">>> row_vector = a[np.newaxis, :]\n",
    ">>> row_vector.shape"
   ]
  },
  {
   "cell_type": "markdown",
   "metadata": {},
   "source": [
    "Atau, untuk vektor kolom, Anda dapat menyisipkan sumbu di sepanjang dimensi kedua :"
   ]
  },
  {
   "cell_type": "code",
   "execution_count": 28,
   "metadata": {},
   "outputs": [
    {
     "data": {
      "text/plain": [
       "(6, 1)"
      ]
     },
     "execution_count": 28,
     "metadata": {},
     "output_type": "execute_result"
    }
   ],
   "source": [
    ">>> col_vector = a[:, np.newaxis]\n",
    ">>> col_vector.shape"
   ]
  },
  {
   "cell_type": "markdown",
   "metadata": {},
   "source": [
    "Anda juga dapat memperluas larik dengan menyisipkan sumbu baru pada posisi tertentu dengan np.expand_dims.\n",
    "\n",
    "Contohnya, jika Anda memulai dengan array ini :"
   ]
  },
  {
   "cell_type": "code",
   "execution_count": 29,
   "metadata": {},
   "outputs": [
    {
     "data": {
      "text/plain": [
       "(6,)"
      ]
     },
     "execution_count": 29,
     "metadata": {},
     "output_type": "execute_result"
    }
   ],
   "source": [
    ">>> a = np.array([1, 2, 3, 4, 5, 6])\n",
    ">>> a. shape"
   ]
  },
  {
   "cell_type": "markdown",
   "metadata": {},
   "source": [
    "Anda dapat menggunakan np.expand_dims untuk menambahkan sumbu pada posisi indeks 1 dengan :"
   ]
  },
  {
   "cell_type": "code",
   "execution_count": 30,
   "metadata": {},
   "outputs": [
    {
     "data": {
      "text/plain": [
       "(6, 1)"
      ]
     },
     "execution_count": 30,
     "metadata": {},
     "output_type": "execute_result"
    }
   ],
   "source": [
    ">>> b = np.expand_dims(a, axis=1)\n",
    ">>> b. shape"
   ]
  },
  {
   "cell_type": "markdown",
   "metadata": {},
   "source": [
    "Anda dapat menambahkan sumbu pada posisi indeks 0 dengan :"
   ]
  },
  {
   "cell_type": "code",
   "execution_count": 31,
   "metadata": {},
   "outputs": [
    {
     "data": {
      "text/plain": [
       "(1, 6)"
      ]
     },
     "execution_count": 31,
     "metadata": {},
     "output_type": "execute_result"
    }
   ],
   "source": [
    ">>> c = np.expand_dims(a, axis=0)\n",
    ">>> c. shape"
   ]
  },
  {
   "cell_type": "markdown",
   "metadata": {},
   "source": [
    "`13. MENGINDEKS DAN MENGIRIS`\n",
    "\n",
    "Anda dapat mengindeks dan mengiris larik NumPy dengan cara yang sama seperti mengiris daftar Python."
   ]
  },
  {
   "cell_type": "code",
   "execution_count": 32,
   "metadata": {},
   "outputs": [
    {
     "name": "stdout",
     "output_type": "stream",
     "text": [
      "2\n"
     ]
    }
   ],
   "source": [
    "data = np.array([1, 2, 3])\n",
    "print(data [1])"
   ]
  },
  {
   "cell_type": "code",
   "execution_count": 33,
   "metadata": {},
   "outputs": [
    {
     "name": "stdout",
     "output_type": "stream",
     "text": [
      "[1 2]\n"
     ]
    }
   ],
   "source": [
    "print(data [0:2])"
   ]
  },
  {
   "cell_type": "code",
   "execution_count": 34,
   "metadata": {},
   "outputs": [
    {
     "name": "stdout",
     "output_type": "stream",
     "text": [
      "[2 3]\n"
     ]
    }
   ],
   "source": [
    "print(data[1:])"
   ]
  },
  {
   "cell_type": "code",
   "execution_count": 35,
   "metadata": {},
   "outputs": [
    {
     "name": "stdout",
     "output_type": "stream",
     "text": [
      "[2 3]\n"
     ]
    }
   ],
   "source": [
    "print(data[-2:])"
   ]
  },
  {
   "cell_type": "markdown",
   "metadata": {},
   "source": [
    "Anda mungkin ingin mengambil sebagian larik atau elemen larik tertentu untuk digunakan dalam analisis lebih lanjut atau operasi tambahan. Untuk melakukan itu, Anda perlu melakukan\n",
    "subset, irisan, dan/atau indeks larik Anda.\n",
    "\n",
    "Jika Anda ingin memilih nilai dari larik Anda yang memenuhi kondisi tertentu, sangat mudah dengan NumPy.\n",
    "\n",
    "Contohnya, jika Anda memulai dengan array ini :"
   ]
  },
  {
   "cell_type": "code",
   "execution_count": 36,
   "metadata": {},
   "outputs": [
    {
     "name": "stdout",
     "output_type": "stream",
     "text": [
      "[1 2 3 4]\n"
     ]
    }
   ],
   "source": [
    ">>> a = np.array([[1, 2, 3, 4], [5, 6, 7, 8], [9, 10, 11, 12]])\n",
    "\n",
    "# Anda dapat dengan mudah mencetak semua nilai dalam larik yang kurang dari 5.\n",
    ">>> print(a[a < 5])"
   ]
  },
  {
   "cell_type": "markdown",
   "metadata": {},
   "source": [
    "Anda juga dapat memilih, misalnya, angka yang sama dengan atau lebih besar dari 5, dan menggunakan kondisi tersebut untuk mengindeks larik."
   ]
  },
  {
   "cell_type": "code",
   "execution_count": 37,
   "metadata": {},
   "outputs": [
    {
     "name": "stdout",
     "output_type": "stream",
     "text": [
      "[ 5  6  7  8  9 10 11 12]\n"
     ]
    }
   ],
   "source": [
    ">>> five_up = (a >= 5)\n",
    ">>> print(a[five_up])"
   ]
  },
  {
   "cell_type": "markdown",
   "metadata": {},
   "source": [
    "Anda dapat memilih elemen yang dapat dibagi 2 :"
   ]
  },
  {
   "cell_type": "code",
   "execution_count": 38,
   "metadata": {},
   "outputs": [
    {
     "name": "stdout",
     "output_type": "stream",
     "text": [
      "[ 2  4  6  8 10 12]\n"
     ]
    }
   ],
   "source": [
    ">>> dibagi_oleh_2 = a[a%2==0]\n",
    ">>> print(dibagi_oleh_2)"
   ]
  },
  {
   "cell_type": "markdown",
   "metadata": {},
   "source": [
    "Atau Anda dapat memilih elemen yang memenuhi dua kondisi dengan menggunakan operator & dan | :"
   ]
  },
  {
   "cell_type": "code",
   "execution_count": 39,
   "metadata": {},
   "outputs": [
    {
     "name": "stdout",
     "output_type": "stream",
     "text": [
      "[ 3  4  5  6  7  8  9 10]\n"
     ]
    }
   ],
   "source": [
    ">>> c = a[(a > 2) & (a < 11)]\n",
    ">>> print(c)"
   ]
  },
  {
   "cell_type": "markdown",
   "metadata": {},
   "source": [
    "Anda juga dapat menggunakan operator logika & dan | untuk mengembalikan nilai boolean yang menentukan apakah nilai dalam larik memenuhi kondisi tertentu atau tidak. Hal ini dapat berguna pada larik yang berisi nama atau nilai kategorikal lainnya."
   ]
  },
  {
   "cell_type": "code",
   "execution_count": 40,
   "metadata": {},
   "outputs": [
    {
     "name": "stdout",
     "output_type": "stream",
     "text": [
      "[[False False False False]\n",
      " [ True  True  True  True]\n",
      " [ True  True  True  True]]\n"
     ]
    }
   ],
   "source": [
    ">>> five_up = (a > 5) | (a == 5)\n",
    ">>> print(five_up)"
   ]
  },
  {
   "cell_type": "markdown",
   "metadata": {},
   "source": [
    "Anda juga dapat menggunakan np.nonzero() untuk memilih elemen atau indeks dari larik. Dimulai dengan larik ini :"
   ]
  },
  {
   "cell_type": "code",
   "execution_count": 41,
   "metadata": {},
   "outputs": [
    {
     "name": "stdout",
     "output_type": "stream",
     "text": [
      "(array([0, 0, 0, 0], dtype=int64), array([0, 1, 2, 3], dtype=int64))\n"
     ]
    }
   ],
   "source": [
    ">>> a = np.array([[1, 2, 3, 4], [5, 6, 7, 8], [9, 10, 11, 12]])\n",
    "\n",
    "# Anda dapat menggunakan np.nonzero() untuk mencetak indeks elemen y a n g , misalnya, kurang dari 5.\n",
    ">>> b = np.nonzero(a < 5)\n",
    ">>> print(b)"
   ]
  },
  {
   "cell_type": "markdown",
   "metadata": {},
   "source": [
    "Dalam contoh ini, sebuah tuple array dikembalikan: satu untuk setiap dimensi. Larik pertama mewakili indeks baris di mana nilai-nilai ini ditemukan, dan larik kedua mewakili indeks kolom di mana nilai-nilai tersebut ditemukan.\n",
    "\n",
    "Jika Anda ingin membuat daftar koordinat di mana elemen-elemennya ada, Anda dapat meng-zip array, mengulang daftar koordinat, dan mencetaknya. Sebagai contoh :"
   ]
  },
  {
   "cell_type": "code",
   "execution_count": 42,
   "metadata": {},
   "outputs": [
    {
     "name": "stdout",
     "output_type": "stream",
     "text": [
      "(0, 0)\n",
      "(0, 1)\n",
      "(0, 2)\n",
      "(0, 3)\n"
     ]
    }
   ],
   "source": [
    ">>> list_of_coordinates= list(zip(b[0], b[1]))\n",
    ">>> for coord in list_of_coordinates:\n",
    "    print(coord)"
   ]
  },
  {
   "cell_type": "markdown",
   "metadata": {},
   "source": [
    "Anda juga dapat menggunakan np.nonzero() untuk mencetak elemen dalam larik yang kurang dari 5 dengan :"
   ]
  },
  {
   "cell_type": "code",
   "execution_count": 43,
   "metadata": {},
   "outputs": [
    {
     "name": "stdout",
     "output_type": "stream",
     "text": [
      "[1 2 3 4]\n"
     ]
    }
   ],
   "source": [
    ">>> print(a[b])"
   ]
  },
  {
   "cell_type": "markdown",
   "metadata": {},
   "source": [
    "Jika elemen yang Anda cari tidak ada dalam larik, maka larik indeks yang dikembalikan akan kosong. Sebagai contoh :"
   ]
  },
  {
   "cell_type": "code",
   "execution_count": 44,
   "metadata": {},
   "outputs": [
    {
     "name": "stdout",
     "output_type": "stream",
     "text": [
      "(array([], dtype=int64), array([], dtype=int64))\n"
     ]
    }
   ],
   "source": [
    ">>> not_there = np.nonzero(a == 42)\n",
    ">>> print(not_there)"
   ]
  },
  {
   "cell_type": "markdown",
   "metadata": {},
   "source": [
    "`14. CARA MEMBUAT LARIK DARI DATA YANG SUDAH ADA`\n",
    "\n",
    "Bagian ini mencakup pengirisan dan pengindeksan, np.vstack(), np.hstack(), np.hsplit(), .view(), copy().\n",
    "\n",
    "Anda dapat dengan mudah membuat larik baru dari bagian larik yang sudah ada. Katakanlah Anda memiliki larik ini :"
   ]
  },
  {
   "cell_type": "code",
   "execution_count": 45,
   "metadata": {},
   "outputs": [
    {
     "data": {
      "text/plain": [
       "array([4, 5, 6, 7, 8])"
      ]
     },
     "execution_count": 45,
     "metadata": {},
     "output_type": "execute_result"
    }
   ],
   "source": [
    ">>> a = np.array([1, 2, 3, 4, 5, 6, 7, 8, 9, 10])\n",
    "\n",
    "# Anda dapat membuat larik baru dari bagian larik Anda kapan saja dengan menentukan di mana Anda ingin memotong larik Anda.\n",
    ">>> arr1 = a[3:8]\n",
    ">>> arr1"
   ]
  },
  {
   "cell_type": "markdown",
   "metadata": {},
   "source": [
    "Di sini, Anda mengambil bagian dari larik Anda dari posisi indeks 3 hingga posisi indeks 8.\n",
    "\n",
    "Anda juga dapat menumpuk dua larik yang ada, baik secara vertikal maupun horizontal. Katakanlah Anda memiliki dua larik, a1 dan a2 :"
   ]
  },
  {
   "cell_type": "code",
   "execution_count": 46,
   "metadata": {},
   "outputs": [
    {
     "data": {
      "text/plain": [
       "array([[1, 1],\n",
       "       [2, 2],\n",
       "       [3, 3],\n",
       "       [4, 4]])"
      ]
     },
     "execution_count": 46,
     "metadata": {},
     "output_type": "execute_result"
    }
   ],
   "source": [
    ">>> a1 = np.array([[1, 1],\n",
    "                   [2, 2]])\n",
    ">>> a2 = np.array([[3, 3],\n",
    "                   [4, 4]])\n",
    "\n",
    "# Anda dapat menumpuknya secara vertikal dengan vstack :\n",
    ">>> np.vstack((a1, a2))"
   ]
  },
  {
   "cell_type": "markdown",
   "metadata": {},
   "source": [
    "Atau susun secara horizontal dengan hstack :"
   ]
  },
  {
   "cell_type": "code",
   "execution_count": 47,
   "metadata": {},
   "outputs": [
    {
     "data": {
      "text/plain": [
       "array([[1, 1, 3, 3],\n",
       "       [2, 2, 4, 4]])"
      ]
     },
     "execution_count": 47,
     "metadata": {},
     "output_type": "execute_result"
    }
   ],
   "source": [
    ">>> np.hstack((a1, a2))"
   ]
  },
  {
   "cell_type": "markdown",
   "metadata": {},
   "source": [
    "Anda dapat membagi sebuah larik menjadi beberapa larik yang lebih kecil dengan menggunakan hsplit. Anda dapat menentukan jumlah larik yang berbentuk sama untuk dikembalikan atau kolom-kolom yang akan dibagi.\n",
    "\n",
    "Katakanlah Anda memiliki susunan ini :"
   ]
  },
  {
   "cell_type": "code",
   "execution_count": 48,
   "metadata": {},
   "outputs": [
    {
     "data": {
      "text/plain": [
       "array([[ 1,  2,  3,  4,  5,  6,  7,  8,  9, 10, 11, 12],\n",
       "       [13, 14, 15, 16, 17, 18, 19, 20, 21, 22, 23, 24]])"
      ]
     },
     "execution_count": 48,
     "metadata": {},
     "output_type": "execute_result"
    }
   ],
   "source": [
    ">>> x = np.arange(1, 25).reshape(2, 12)\n",
    ">>> x"
   ]
  },
  {
   "cell_type": "markdown",
   "metadata": {},
   "source": [
    "Jika Anda ingin membagi larik ini menjadi tiga larik dengan bentuk yang sama, Anda akan menjalankannya :"
   ]
  },
  {
   "cell_type": "code",
   "execution_count": 49,
   "metadata": {},
   "outputs": [
    {
     "data": {
      "text/plain": [
       "[array([[ 1,  2,  3,  4],\n",
       "        [13, 14, 15, 16]]),\n",
       " array([[ 5,  6,  7,  8],\n",
       "        [17, 18, 19, 20]]),\n",
       " array([[ 9, 10, 11, 12],\n",
       "        [21, 22, 23, 24]])]"
      ]
     },
     "execution_count": 49,
     "metadata": {},
     "output_type": "execute_result"
    }
   ],
   "source": [
    ">>> np.hsplit(x, 3)"
   ]
  },
  {
   "cell_type": "markdown",
   "metadata": {},
   "source": [
    "Jika Anda ingin membagi larik Anda setelah kolom ketiga dan keempat, Anda akan menjalankannya :"
   ]
  },
  {
   "cell_type": "code",
   "execution_count": 50,
   "metadata": {},
   "outputs": [
    {
     "data": {
      "text/plain": [
       "[array([[ 1,  2,  3],\n",
       "        [13, 14, 15]]),\n",
       " array([[ 4],\n",
       "        [16]]),\n",
       " array([[ 5,  6,  7,  8,  9, 10, 11, 12],\n",
       "        [17, 18, 19, 20, 21, 22, 23, 24]])]"
      ]
     },
     "execution_count": 50,
     "metadata": {},
     "output_type": "execute_result"
    }
   ],
   "source": [
    ">>> np.hsplit(x, (3, 4))"
   ]
  },
  {
   "cell_type": "markdown",
   "metadata": {},
   "source": [
    "Anda dapat menggunakan metode view untuk membuat objek larik baru yang melihat data yang sama dengan larik asli (salinan dangkal).\n",
    "\n",
    "Tampilan adalah konsep NumPy yang penting! Fungsi-fungsi NumPy, dan juga operasi-operasi seperti pengindeksan dan pemotongan, akan mengembalikan tampilan bila memungkinkan. Hal ini akan menghemat memori dan lebih cepat (tidak perlu menyalin data). Namun, penting untuk menyadari hal ini - memodifikasi data pada suatu tampila juga akan mengubah larik aslinya !\n",
    "\n",
    "Katakanlah Anda membuat larik ini :"
   ]
  },
  {
   "cell_type": "code",
   "execution_count": 51,
   "metadata": {},
   "outputs": [],
   "source": [
    ">>> a = np.array([[1, 2, 3, 4], [5, 6, 7, 8], [9, 10, 11, 12]])"
   ]
  },
  {
   "cell_type": "markdown",
   "metadata": {},
   "source": [
    "Sekarang kita membuat larik b1 dengan mengiris a dan memodifikasi elemen pertama dari b1. Ini akan memodifikasi elemen yang sesuai di a juga !"
   ]
  },
  {
   "cell_type": "code",
   "execution_count": 52,
   "metadata": {},
   "outputs": [
    {
     "data": {
      "text/plain": [
       "array([1, 2, 3, 4])"
      ]
     },
     "execution_count": 52,
     "metadata": {},
     "output_type": "execute_result"
    }
   ],
   "source": [
    ">>> b1 = a[0, :]\n",
    ">>> b1"
   ]
  },
  {
   "cell_type": "code",
   "execution_count": 53,
   "metadata": {},
   "outputs": [
    {
     "data": {
      "text/plain": [
       "array([99,  2,  3,  4])"
      ]
     },
     "execution_count": 53,
     "metadata": {},
     "output_type": "execute_result"
    }
   ],
   "source": [
    ">>> b1[0] = 99\n",
    ">>> b1"
   ]
  },
  {
   "cell_type": "code",
   "execution_count": 54,
   "metadata": {},
   "outputs": [
    {
     "data": {
      "text/plain": [
       "array([[99,  2,  3,  4],\n",
       "       [ 5,  6,  7,  8],\n",
       "       [ 9, 10, 11, 12]])"
      ]
     },
     "execution_count": 54,
     "metadata": {},
     "output_type": "execute_result"
    }
   ],
   "source": [
    ">>> a"
   ]
  },
  {
   "cell_type": "markdown",
   "metadata": {},
   "source": [
    "Menggunakan metode salin akan membuat salinan lengkap larik dan datanya (salinan dalam). Untuk menggunakan ini pada larik Anda, Anda dapat menjalankan :"
   ]
  },
  {
   "cell_type": "code",
   "execution_count": 55,
   "metadata": {},
   "outputs": [
    {
     "name": "stdout",
     "output_type": "stream",
     "text": [
      "[[99  2  3  4]\n",
      " [ 5  6  7  8]\n",
      " [ 9 10 11 12]]\n"
     ]
    }
   ],
   "source": [
    ">>> b2 = a.copy()\n",
    ">>> print(b2)"
   ]
  },
  {
   "cell_type": "markdown",
   "metadata": {},
   "source": [
    "`15. OPERASI LARIK DASAR`\n",
    "\n",
    "Bagian ini mencakup penjumlahan, pengurangan, perkalian, pembagian, dan lainnya Setelah Anda membuat array, Anda dapat mulai bekerja dengannya. Katakanlah, misalnya, Anda telah membuat dua larik, satu bernama \"data\" dan satu lagi bernama \"ones\". Anda dapat menambahkan array bersama-sama dengan tanda plus."
   ]
  },
  {
   "cell_type": "code",
   "execution_count": 56,
   "metadata": {},
   "outputs": [
    {
     "data": {
      "text/plain": [
       "array([2, 3])"
      ]
     },
     "execution_count": 56,
     "metadata": {},
     "output_type": "execute_result"
    }
   ],
   "source": [
    ">>> data = np.array([1, 2])\n",
    ">>> ones = np.ones(2, dtype = int)\n",
    ">>> data + ones"
   ]
  },
  {
   "cell_type": "markdown",
   "metadata": {},
   "source": [
    "Tentu saja, Anda bisa melakukan lebih dari sekadar penambahan!"
   ]
  },
  {
   "cell_type": "code",
   "execution_count": 57,
   "metadata": {},
   "outputs": [
    {
     "data": {
      "text/plain": [
       "array([0, 1])"
      ]
     },
     "execution_count": 57,
     "metadata": {},
     "output_type": "execute_result"
    }
   ],
   "source": [
    ">>> data - ones"
   ]
  },
  {
   "cell_type": "code",
   "execution_count": 58,
   "metadata": {},
   "outputs": [
    {
     "data": {
      "text/plain": [
       "array([1, 4])"
      ]
     },
     "execution_count": 58,
     "metadata": {},
     "output_type": "execute_result"
    }
   ],
   "source": [
    ">>> data * data"
   ]
  },
  {
   "cell_type": "code",
   "execution_count": 59,
   "metadata": {},
   "outputs": [
    {
     "data": {
      "text/plain": [
       "array([1., 1.])"
      ]
     },
     "execution_count": 59,
     "metadata": {},
     "output_type": "execute_result"
    }
   ],
   "source": [
    ">>> data / data"
   ]
  },
  {
   "cell_type": "markdown",
   "metadata": {},
   "source": [
    "Operasi dasar sangat sederhana dengan NumPy. Jika Anda ingin mencari jumlah dari elemen-elemen di dalam sebuah larik, Anda dapat menggunakan sum(). Ini bekerja untuk larik 1D, larik 2D, dan larik dengan dimensi yang lebih tinggi."
   ]
  },
  {
   "cell_type": "code",
   "execution_count": 60,
   "metadata": {},
   "outputs": [
    {
     "data": {
      "text/plain": [
       "10"
      ]
     },
     "execution_count": 60,
     "metadata": {},
     "output_type": "execute_result"
    }
   ],
   "source": [
    ">>> a = np.array([1, 2, 3, 4])\n",
    ">>> a.sum()"
   ]
  },
  {
   "cell_type": "markdown",
   "metadata": {},
   "source": [
    "Untuk menambahkan baris atau kolom dalam larik 2D, Anda akan\n",
    "menentukan sumbu. Jika Anda memulai dengan array ini :"
   ]
  },
  {
   "cell_type": "code",
   "execution_count": 61,
   "metadata": {},
   "outputs": [
    {
     "data": {
      "text/plain": [
       "array([3, 3])"
      ]
     },
     "execution_count": 61,
     "metadata": {},
     "output_type": "execute_result"
    }
   ],
   "source": [
    ">>> b = np.array([[1, 1], [2, 2]])\n",
    "\n",
    "# Anda dapat menjumlahkan di atas sumbu baris dengan :\n",
    ">>> b.sum(axis=0)"
   ]
  },
  {
   "cell_type": "markdown",
   "metadata": {},
   "source": [
    "Anda dapat menjumlahkan di atas sumbu kolom dengan :"
   ]
  },
  {
   "cell_type": "code",
   "execution_count": 62,
   "metadata": {},
   "outputs": [
    {
     "data": {
      "text/plain": [
       "array([2, 4])"
      ]
     },
     "execution_count": 62,
     "metadata": {},
     "output_type": "execute_result"
    }
   ],
   "source": [
    ">>> b.sum(axis=1)"
   ]
  },
  {
   "cell_type": "markdown",
   "metadata": {},
   "source": [
    "`16. PENYIARAN`\n",
    "\n",
    "Ada kalanya Anda mungkin ingin melakukan operasi antara larik dan angka tunggal (juga disebut operasi antara vektor dan skalar) atau antara larik dengan dua ukuran berbeda. Sebagai contoh, larik Anda (kita sebut saja \"data\") mungkin berisi informasi mengenai jarak dalam mil, namun Anda ingin mengubah informasi tersebut menjadi kilometer. Anda dapat melakukan operasi ini dengan :"
   ]
  },
  {
   "cell_type": "code",
   "execution_count": 63,
   "metadata": {},
   "outputs": [
    {
     "data": {
      "text/plain": [
       "array([1.6, 3.2])"
      ]
     },
     "execution_count": 63,
     "metadata": {},
     "output_type": "execute_result"
    }
   ],
   "source": [
    ">>> data = np.array([1.0, 2.0])\n",
    ">>> data * 1.6"
   ]
  },
  {
   "cell_type": "markdown",
   "metadata": {},
   "source": [
    "NumPy memahami bahwa perkalian harus terjadi pada setiap sel. Konsep ini disebut broadcasting. Broadcasting adalah sebuah mekanisme yang memungkinkan NumPy untuk melakukan operasi pada larik dengan bentuk yang berbeda. Dimensi dari larik Anda haruslah kompatibel, contohnya, ketika dimensi dari kedua lariknya sama atau ketika salah satunya adalah 1. Jika dimensinya tidak kompatibel, maka Anda akan mendapatkan ValueError."
   ]
  },
  {
   "cell_type": "markdown",
   "metadata": {},
   "source": [
    "`17. OPERASI LARIK YANG LEBIH BERGUNA`\n",
    "\n",
    "Bagian ini mencakup nilai maksimum, minimum, jumlah, rata-rata, produk, deviasi standar, dan lainnya.\n",
    "\n",
    "NumPy juga melakukan fungsi agregasi. Selain min, max, dan sum, Anda dapat dengan mudah menjalankan mean untuk mendapatkan rata-rata, prod untuk mendapatkan hasil perkalian elemen-elemennya , std untuk mendapatkan deviasi standar, dan banyak lagi."
   ]
  },
  {
   "cell_type": "code",
   "execution_count": 64,
   "metadata": {},
   "outputs": [
    {
     "data": {
      "text/plain": [
       "2.0"
      ]
     },
     "execution_count": 64,
     "metadata": {},
     "output_type": "execute_result"
    }
   ],
   "source": [
    ">>> data.max()"
   ]
  },
  {
   "cell_type": "code",
   "execution_count": 65,
   "metadata": {},
   "outputs": [
    {
     "data": {
      "text/plain": [
       "1.0"
      ]
     },
     "execution_count": 65,
     "metadata": {},
     "output_type": "execute_result"
    }
   ],
   "source": [
    ">>> data.min()"
   ]
  },
  {
   "cell_type": "code",
   "execution_count": 66,
   "metadata": {},
   "outputs": [
    {
     "data": {
      "text/plain": [
       "3.0"
      ]
     },
     "execution_count": 66,
     "metadata": {},
     "output_type": "execute_result"
    }
   ],
   "source": [
    ">>> data.sum()"
   ]
  },
  {
   "cell_type": "markdown",
   "metadata": {},
   "source": [
    "Mari kita mulai dengan larik ini, yang disebut \"a\"."
   ]
  },
  {
   "cell_type": "code",
   "execution_count": 67,
   "metadata": {},
   "outputs": [],
   "source": [
    ">>> a = np.array([[0.45053314, 0.17296777, 0.34376245, 0.5510652],\n",
    "                  [0.54627315, 0.05093587, 0.40067661, 0.55645993],\n",
    "                  [0.12697628, 0.82485143, 0.26590556, 0.56917101]])"
   ]
  },
  {
   "cell_type": "markdown",
   "metadata": {},
   "source": [
    "Sangat umum jika Anda ingin menjumlahkan sepanjang baris atau kolom. Secara default, setiap fungsi agregasi NumPy akan mengembalikan penjumlahan seluruh larik. Untuk menemukan jumlah atau minimum dari elemen-elemen dalam larik Anda, jalankan :"
   ]
  },
  {
   "cell_type": "code",
   "execution_count": 68,
   "metadata": {},
   "outputs": [
    {
     "data": {
      "text/plain": [
       "4.8595784"
      ]
     },
     "execution_count": 68,
     "metadata": {},
     "output_type": "execute_result"
    }
   ],
   "source": [
    ">>> a.sum()"
   ]
  },
  {
   "cell_type": "code",
   "execution_count": 69,
   "metadata": {},
   "outputs": [
    {
     "data": {
      "text/plain": [
       "0.05093587"
      ]
     },
     "execution_count": 69,
     "metadata": {},
     "output_type": "execute_result"
    }
   ],
   "source": [
    ">>> a.min()"
   ]
  },
  {
   "cell_type": "markdown",
   "metadata": {},
   "source": [
    "Anda dapat menentukan pada sumbu mana Anda ingin fungsi agregasi dihitung. Sebagai contoh, Anda dapat menemukan nilai minimum dalam setiap kolom dengan menentukan sumbu=0."
   ]
  },
  {
   "cell_type": "code",
   "execution_count": 70,
   "metadata": {},
   "outputs": [
    {
     "data": {
      "text/plain": [
       "array([0.12697628, 0.05093587, 0.26590556, 0.5510652 ])"
      ]
     },
     "execution_count": 70,
     "metadata": {},
     "output_type": "execute_result"
    }
   ],
   "source": [
    ">>> a.min(axis=0)"
   ]
  },
  {
   "cell_type": "markdown",
   "metadata": {},
   "source": [
    "`18. MEMBUAT MATRIKS`\n",
    "\n",
    "Anda dapat mengoper daftar Python untuk membuat larik 2-D(atau \"matriks\") untuk merepresentasikannya di NumPy."
   ]
  },
  {
   "cell_type": "code",
   "execution_count": 71,
   "metadata": {},
   "outputs": [
    {
     "data": {
      "text/plain": [
       "array([[1, 2],\n",
       "       [3, 4],\n",
       "       [5, 6]])"
      ]
     },
     "execution_count": 71,
     "metadata": {},
     "output_type": "execute_result"
    }
   ],
   "source": [
    ">>> data = np.array([[1, 2], [3, 4], [5, 6]])\n",
    ">>> data"
   ]
  },
  {
   "cell_type": "markdown",
   "metadata": {},
   "source": [
    "Operasi pengindeksan dan pemotongan berguna saat Anda memanipulasi matriks :"
   ]
  },
  {
   "cell_type": "code",
   "execution_count": 72,
   "metadata": {},
   "outputs": [
    {
     "data": {
      "text/plain": [
       "2"
      ]
     },
     "execution_count": 72,
     "metadata": {},
     "output_type": "execute_result"
    }
   ],
   "source": [
    ">>> data[0, 1]"
   ]
  },
  {
   "cell_type": "code",
   "execution_count": 73,
   "metadata": {},
   "outputs": [
    {
     "data": {
      "text/plain": [
       "array([[3, 4],\n",
       "       [5, 6]])"
      ]
     },
     "execution_count": 73,
     "metadata": {},
     "output_type": "execute_result"
    }
   ],
   "source": [
    ">>> data [1:3]"
   ]
  },
  {
   "cell_type": "code",
   "execution_count": 74,
   "metadata": {},
   "outputs": [
    {
     "data": {
      "text/plain": [
       "array([1, 3])"
      ]
     },
     "execution_count": 74,
     "metadata": {},
     "output_type": "execute_result"
    }
   ],
   "source": [
    ">>> data [0:2, 0]"
   ]
  },
  {
   "cell_type": "markdown",
   "metadata": {},
   "source": [
    "Anda dapat menggabungkan matriks dengan cara yang sama seperti menggabungkan vektor :"
   ]
  },
  {
   "cell_type": "code",
   "execution_count": 75,
   "metadata": {},
   "outputs": [
    {
     "data": {
      "text/plain": [
       "6"
      ]
     },
     "execution_count": 75,
     "metadata": {},
     "output_type": "execute_result"
    }
   ],
   "source": [
    ">>> data.max()"
   ]
  },
  {
   "cell_type": "code",
   "execution_count": 76,
   "metadata": {},
   "outputs": [
    {
     "data": {
      "text/plain": [
       "1"
      ]
     },
     "execution_count": 76,
     "metadata": {},
     "output_type": "execute_result"
    }
   ],
   "source": [
    ">>> data.min()"
   ]
  },
  {
   "cell_type": "code",
   "execution_count": 77,
   "metadata": {},
   "outputs": [
    {
     "data": {
      "text/plain": [
       "21"
      ]
     },
     "execution_count": 77,
     "metadata": {},
     "output_type": "execute_result"
    }
   ],
   "source": [
    ">>> data.sum()"
   ]
  },
  {
   "cell_type": "markdown",
   "metadata": {},
   "source": [
    "Anda dapat menggabungkan semua nilai dalam matriks dan Anda dapat menggabungkannya di seluruh kolom atau baris menggunakan parameter sumbu. Untuk mengilustrasikan hal ini,\n",
    "mari kita lihat kumpulan data yang sedikit dimodifikasi : "
   ]
  },
  {
   "cell_type": "code",
   "execution_count": 78,
   "metadata": {},
   "outputs": [
    {
     "data": {
      "text/plain": [
       "array([[1, 2],\n",
       "       [5, 3],\n",
       "       [4, 6]])"
      ]
     },
     "execution_count": 78,
     "metadata": {},
     "output_type": "execute_result"
    }
   ],
   "source": [
    ">>> data = np.array([[1, 2], [5, 3], [4, 6]])\n",
    ">>> data"
   ]
  },
  {
   "cell_type": "code",
   "execution_count": 79,
   "metadata": {},
   "outputs": [
    {
     "data": {
      "text/plain": [
       "array([5, 6])"
      ]
     },
     "execution_count": 79,
     "metadata": {},
     "output_type": "execute_result"
    }
   ],
   "source": [
    ">>> data.max(axis=0)"
   ]
  },
  {
   "cell_type": "code",
   "execution_count": 80,
   "metadata": {},
   "outputs": [
    {
     "data": {
      "text/plain": [
       "array([2, 5, 6])"
      ]
     },
     "execution_count": 80,
     "metadata": {},
     "output_type": "execute_result"
    }
   ],
   "source": [
    ">>> data.max(axis=1)"
   ]
  },
  {
   "cell_type": "markdown",
   "metadata": {},
   "source": [
    "Anda dapat menambahkan dan mengalikannya menggunakan\n",
    "operator aritmatika jika Anda memiliki dua matriks dengan ukuran yang sama."
   ]
  },
  {
   "cell_type": "code",
   "execution_count": 81,
   "metadata": {},
   "outputs": [
    {
     "data": {
      "text/plain": [
       "array([[2, 3],\n",
       "       [4, 5]])"
      ]
     },
     "execution_count": 81,
     "metadata": {},
     "output_type": "execute_result"
    }
   ],
   "source": [
    ">>> data = np.array([[1, 2], [3, 4]])\n",
    ">>> ones = np.array([[1, 1], [1, 1]])\n",
    ">>> data + ones"
   ]
  },
  {
   "cell_type": "markdown",
   "metadata": {},
   "source": [
    "Pada kasus ini, NumPy akan menggunakan aturan broadcast untuk melakukan operasi tersebut."
   ]
  },
  {
   "cell_type": "code",
   "execution_count": 82,
   "metadata": {},
   "outputs": [
    {
     "data": {
      "text/plain": [
       "array([[2, 3],\n",
       "       [4, 5],\n",
       "       [6, 7]])"
      ]
     },
     "execution_count": 82,
     "metadata": {},
     "output_type": "execute_result"
    }
   ],
   "source": [
    ">>> data = np.array([[1, 2], [3, 4], [5, 6]])\n",
    ">>> ones_row = np.array([[1, 1]])\n",
    ">>> data + ones_row"
   ]
  },
  {
   "cell_type": "markdown",
   "metadata": {},
   "source": [
    "Perlu diketahui bahwa ketika NumPy mencetak array N-dimensi, sumbu terakhir akan dilingkari paling cepat sementara sumbu pertama adalah yang paling lambat. Sebagai contoh :"
   ]
  },
  {
   "cell_type": "code",
   "execution_count": 83,
   "metadata": {},
   "outputs": [
    {
     "data": {
      "text/plain": [
       "array([[[1., 1.],\n",
       "        [1., 1.],\n",
       "        [1., 1.]],\n",
       "\n",
       "       [[1., 1.],\n",
       "        [1., 1.],\n",
       "        [1., 1.]],\n",
       "\n",
       "       [[1., 1.],\n",
       "        [1., 1.],\n",
       "        [1., 1.]],\n",
       "\n",
       "       [[1., 1.],\n",
       "        [1., 1.],\n",
       "        [1., 1.]]])"
      ]
     },
     "execution_count": 83,
     "metadata": {},
     "output_type": "execute_result"
    }
   ],
   "source": [
    ">>> np.ones((4, 3, 2))"
   ]
  },
  {
   "cell_type": "markdown",
   "metadata": {},
   "source": [
    "Sering kali kita ingin NumPy menginisialisasi nilai dari sebuah larik. NumPy menawarkan fungsi-fungsi seperti ones() dan zeros(), dan kelas random.Generator untuk menghasilkan\n",
    "angka acak untuk itu. Yang perlu Anda lakukan adalah memasukkan jumlah elemen yang ingin Anda hasilkan :"
   ]
  },
  {
   "cell_type": "code",
   "execution_count": 84,
   "metadata": {},
   "outputs": [
    {
     "data": {
      "text/plain": [
       "array([1., 1., 1.])"
      ]
     },
     "execution_count": 84,
     "metadata": {},
     "output_type": "execute_result"
    }
   ],
   "source": [
    ">>> np.ones(3)"
   ]
  },
  {
   "cell_type": "code",
   "execution_count": 85,
   "metadata": {},
   "outputs": [
    {
     "data": {
      "text/plain": [
       "array([0., 0., 0.])"
      ]
     },
     "execution_count": 85,
     "metadata": {},
     "output_type": "execute_result"
    }
   ],
   "source": [
    ">>> np.zeros(3)"
   ]
  },
  {
   "cell_type": "code",
   "execution_count": 86,
   "metadata": {},
   "outputs": [
    {
     "data": {
      "text/plain": [
       "array([0.34282644, 0.75221532, 0.70657112])"
      ]
     },
     "execution_count": 86,
     "metadata": {},
     "output_type": "execute_result"
    }
   ],
   "source": [
    ">>> rng = np.random.default_rng()\n",
    ">>> rng.random(3)"
   ]
  },
  {
   "cell_type": "markdown",
   "metadata": {},
   "source": [
    "Anda juga dapat menggunakan ones(), zeros(), dan random() untuk membuat larik 2D jika Anda memberikan tuple yang menggambarkan dimensi matriks :"
   ]
  },
  {
   "cell_type": "code",
   "execution_count": 87,
   "metadata": {},
   "outputs": [
    {
     "data": {
      "text/plain": [
       "array([[1., 1.],\n",
       "       [1., 1.],\n",
       "       [1., 1.]])"
      ]
     },
     "execution_count": 87,
     "metadata": {},
     "output_type": "execute_result"
    }
   ],
   "source": [
    ">>> np.ones((3, 2))"
   ]
  },
  {
   "cell_type": "code",
   "execution_count": 88,
   "metadata": {},
   "outputs": [
    {
     "data": {
      "text/plain": [
       "array([[0., 0.],\n",
       "       [0., 0.],\n",
       "       [0., 0.]])"
      ]
     },
     "execution_count": 88,
     "metadata": {},
     "output_type": "execute_result"
    }
   ],
   "source": [
    ">>> np.zeros((3, 2))"
   ]
  },
  {
   "cell_type": "code",
   "execution_count": 89,
   "metadata": {},
   "outputs": [
    {
     "data": {
      "text/plain": [
       "array([[0.02993415, 0.44948194],\n",
       "       [0.15378389, 0.06708084],\n",
       "       [0.71315813, 0.44742755]])"
      ]
     },
     "execution_count": 89,
     "metadata": {},
     "output_type": "execute_result"
    }
   ],
   "source": [
    ">>> rng.random((3, 2))"
   ]
  },
  {
   "cell_type": "markdown",
   "metadata": {},
   "source": [
    "`19. MENGHASILKAN ANGKA ACAK`\n",
    "\n",
    "Penggunaan pembangkitan angka acak adalah bagian penting dari konfigurasi dan evaluasi banyak algoritma numerik dan pembelajaran mesin. Apakah Anda perlu menginisialisasi bobot secara acak dalam jaringan saraf tiruan, membagi data ke dalam\n",
    "set acak, atau mengacak set data Anda secara acak, kemampuan untuk menghasilkan bilangan acak (sebenarnya, bilangan acak semu yang dapat diulang) sangat penting.\n",
    "\n",
    "Dengan Generator.integer, Anda dapat menghasilkan bilangan bulat acak dari rendah (ingat bahwa ini inklusif dengan NumPy) hingga tinggi (eksklusif). Anda dapat mengatur endpoint = True untuk membuat angka tinggi menjadi inklusif.\n",
    "\n",
    "Anda dapat membuat larik 2 x 4 bilangan bulat acak antara 0 dan 4 dengan :"
   ]
  },
  {
   "cell_type": "code",
   "execution_count": 90,
   "metadata": {},
   "outputs": [
    {
     "data": {
      "text/plain": [
       "array([[2, 1, 3, 2],\n",
       "       [1, 2, 3, 3]], dtype=int64)"
      ]
     },
     "execution_count": 90,
     "metadata": {},
     "output_type": "execute_result"
    }
   ],
   "source": [
    ">>> rng.integers(5, size=(2, 4))"
   ]
  },
  {
   "cell_type": "markdown",
   "metadata": {},
   "source": [
    "`20. CARA MENDAPATKAN ITEM DAN JUMLAH UNIK`\n",
    "\n",
    "Bagian ini mencakup np.unique().\n",
    "\n",
    "Anda dapat menemukan elemen unik dalam larik dengan mudah\n",
    "menggunakan np.unique. Sebagai contoh, jika Anda memulai\n",
    "dengan larik ini :"
   ]
  },
  {
   "cell_type": "code",
   "execution_count": 91,
   "metadata": {},
   "outputs": [
    {
     "name": "stdout",
     "output_type": "stream",
     "text": [
      "[11 12 13 14 15 16 17 18 19 20]\n"
     ]
    }
   ],
   "source": [
    ">>> a = np.array([11, 11, 12, 13, 14, 14, 15, 16, 17, 12, 13, 11, 14, 18,\n",
    "19, 20])\n",
    "\n",
    "# Anda dapat menggunakan np.unique untuk mencetak nilai unik dalam larik Anda:\n",
    ">>> nilai_unik = np.unique(a)\n",
    ">>> print(nilai_unik)"
   ]
  },
  {
   "cell_type": "markdown",
   "metadata": {},
   "source": [
    "Untuk mendapatkan indeks nilai unik dalam larik NumPy (larik posisi indeks pertama dari nilai unik dalam larik ), cukup berikan argumen return_index dalam np.unique() serta larik\n",
    "Anda."
   ]
  },
  {
   "cell_type": "code",
   "execution_count": 92,
   "metadata": {},
   "outputs": [
    {
     "name": "stdout",
     "output_type": "stream",
     "text": [
      "[ 0  2  3  4  6  7  8 13 14 15]\n"
     ]
    }
   ],
   "source": [
    "unique_values, indices_list = np.unique(a, return_index=True)\n",
    "print(indices_list)"
   ]
  },
  {
   "cell_type": "markdown",
   "metadata": {},
   "source": [
    "Anda dapat memberikan argumen return_counts di np.unique() bersama dengan larik Anda untuk mendapatkan hitungan frekuensi nilai unik dalam larik NumPy."
   ]
  },
  {
   "cell_type": "code",
   "execution_count": 93,
   "metadata": {},
   "outputs": [
    {
     "name": "stdout",
     "output_type": "stream",
     "text": [
      "[3 2 2 3 1 1 1 1 1 1]\n"
     ]
    }
   ],
   "source": [
    ">>> unique_values, occurrence_count = np.unique(a, return_counts=True)\n",
    ">>> print(occurrence_count)"
   ]
  },
  {
   "cell_type": "markdown",
   "metadata": {},
   "source": [
    "Hal ini juga bisa dilakukan dengan array 2D! Jika Anda memulai dengan array ini :"
   ]
  },
  {
   "cell_type": "code",
   "execution_count": 94,
   "metadata": {},
   "outputs": [
    {
     "name": "stdout",
     "output_type": "stream",
     "text": [
      "[ 1  2  3  4  5  6  7  8  9 10 11 12]\n"
     ]
    }
   ],
   "source": [
    ">>> a_2d = np.array([[1, 2, 3, 4], [5, 6, 7, 8], [9, 10, 11, 12], [1,\n",
    "2, 3, 4]])\n",
    "\n",
    "# Anda dapat menemukan nilai unik dengan :\n",
    ">>> nilai_unik = np.unique(a_2d)\n",
    ">>> print(nilai_unik)"
   ]
  },
  {
   "cell_type": "markdown",
   "metadata": {},
   "source": [
    "Jika argumen sumbu tidak dilewatkan, array 2D Anda akan diratakan.\n",
    "\n",
    "Jika Anda ingin mendapatkan baris atau kolom yang unik, pastikan untuk memberikan argumen axis. Untuk menemukan baris unik, tentukan axis = 0 dan untuk kolom, tentukan axis = 1."
   ]
  },
  {
   "cell_type": "code",
   "execution_count": 95,
   "metadata": {},
   "outputs": [
    {
     "name": "stdout",
     "output_type": "stream",
     "text": [
      "[[ 1  2  3  4]\n",
      " [ 5  6  7  8]\n",
      " [ 9 10 11 12]]\n"
     ]
    }
   ],
   "source": [
    ">>> unique_rows = np.unique(a_2d, axis=0)\n",
    ">>> print(unique_rows)"
   ]
  },
  {
   "cell_type": "markdown",
   "metadata": {},
   "source": [
    "Untuk mendapatkan baris unik, posisi indeks, dan jumlah kemunculan, Anda dapat menggunakan :"
   ]
  },
  {
   "cell_type": "code",
   "execution_count": 96,
   "metadata": {},
   "outputs": [
    {
     "name": "stdout",
     "output_type": "stream",
     "text": [
      "[[ 1  2  3  4]\n",
      " [ 5  6  7  8]\n",
      " [ 9 10 11 12]]\n"
     ]
    }
   ],
   "source": [
    ">>> unique_rows, indices, occurrence_count = np.unique(\n",
    "    a_2d, axis=0, return_counts = True, return_index = True)\n",
    ">>> print(unique_rows)"
   ]
  },
  {
   "cell_type": "code",
   "execution_count": 97,
   "metadata": {},
   "outputs": [
    {
     "name": "stdout",
     "output_type": "stream",
     "text": [
      "[0 1 2]\n"
     ]
    }
   ],
   "source": [
    ">>> print(indices)"
   ]
  },
  {
   "cell_type": "code",
   "execution_count": 98,
   "metadata": {},
   "outputs": [
    {
     "name": "stdout",
     "output_type": "stream",
     "text": [
      "[2 1 1]\n"
     ]
    }
   ],
   "source": [
    ">>> print(occurrence_count)"
   ]
  },
  {
   "cell_type": "markdown",
   "metadata": {},
   "source": [
    "`21. MENGUBAH DAN MEMBENTUK ULANG MATRIKS`\n",
    "\n",
    "Bagian ini mencakup arr.reshape(), arr.transpose(), arr.T\n",
    "\n",
    "Adalah hal yang umum jika Anda perlu mengubah urutan matriks Anda. Larik NumPy memiliki properti T yang memungkinkan Anda untuk mentransposisi matriks.\n",
    "\n",
    "Hal ini dapat terjadi ketika, misalnya, Anda memiliki model yang mengharapkan bentuk input tertentu yang berbeda dari\n",
    "kumpulan data Anda. Di sinilah metode reshape dapat berguna. Anda hanya perlu memasukkan dimensi baru yang Anda inginkan untuk matriks."
   ]
  },
  {
   "cell_type": "code",
   "execution_count": 99,
   "metadata": {},
   "outputs": [
    {
     "data": {
      "text/plain": [
       "array([[1, 2, 3],\n",
       "       [4, 5, 6]])"
      ]
     },
     "execution_count": 99,
     "metadata": {},
     "output_type": "execute_result"
    }
   ],
   "source": [
    ">>> data.reshape(2, 3)"
   ]
  },
  {
   "cell_type": "code",
   "execution_count": 100,
   "metadata": {},
   "outputs": [
    {
     "data": {
      "text/plain": [
       "array([[1, 2],\n",
       "       [3, 4],\n",
       "       [5, 6]])"
      ]
     },
     "execution_count": 100,
     "metadata": {},
     "output_type": "execute_result"
    }
   ],
   "source": [
    ">>> data.reshape(3, 2)"
   ]
  },
  {
   "cell_type": "markdown",
   "metadata": {},
   "source": [
    "Anda juga dapat menggunakan .transpose() untuk membalikkan atau mengubah sumbu larik sesuai dengan nilai yang Anda tentukan.\n",
    "\n",
    "Jika Anda memulai dengan array inI :"
   ]
  },
  {
   "cell_type": "code",
   "execution_count": 101,
   "metadata": {},
   "outputs": [
    {
     "data": {
      "text/plain": [
       "array([[0, 1, 2],\n",
       "       [3, 4, 5]])"
      ]
     },
     "execution_count": 101,
     "metadata": {},
     "output_type": "execute_result"
    }
   ],
   "source": [
    ">>> arr = np.arange(6).reshape((2, 3))\n",
    ">>> arr"
   ]
  },
  {
   "cell_type": "markdown",
   "metadata": {},
   "source": [
    "Anda dapat melakukan transposisi larik dengan arr.transpose()."
   ]
  },
  {
   "cell_type": "code",
   "execution_count": 102,
   "metadata": {},
   "outputs": [
    {
     "data": {
      "text/plain": [
       "array([[0, 3],\n",
       "       [1, 4],\n",
       "       [2, 5]])"
      ]
     },
     "execution_count": 102,
     "metadata": {},
     "output_type": "execute_result"
    }
   ],
   "source": [
    ">>> arr.transpose()"
   ]
  },
  {
   "cell_type": "markdown",
   "metadata": {},
   "source": [
    "Anda juga dapat menggunakan arr.T :"
   ]
  },
  {
   "cell_type": "code",
   "execution_count": 103,
   "metadata": {},
   "outputs": [
    {
     "data": {
      "text/plain": [
       "array([[0, 3],\n",
       "       [1, 4],\n",
       "       [2, 5]])"
      ]
     },
     "execution_count": 103,
     "metadata": {},
     "output_type": "execute_result"
    }
   ],
   "source": [
    ">>> arr.T"
   ]
  },
  {
   "cell_type": "markdown",
   "metadata": {},
   "source": [
    "`22. CARA MEMBALIKKAN LARIK`\n",
    "\n",
    "Bagian ini mencakup np.flip().\n",
    "\n",
    "Fungsi np.flip() dari NumPy memungkinkan Anda untuk membalik, atau membalikkan, isi larik di sepanjang sebuah sumbu. Ketika menggunakan np.flip(), tentukan larik yang ingin Anda balikkan dan sumbunya. Jika Anda tidak menentukan sumbu, NumPy akan membalikkan isi larik di sepanjang sumbu larik input Anda.\n",
    "\n",
    "`Membalikkan larik 12`\n",
    "\n",
    "Jika Anda memulai dengan susunan 1D seperti ini :"
   ]
  },
  {
   "cell_type": "code",
   "execution_count": 104,
   "metadata": {},
   "outputs": [
    {
     "name": "stdout",
     "output_type": "stream",
     "text": [
      "Reversed Array:  [8 7 6 5 4 3 2 1]\n"
     ]
    }
   ],
   "source": [
    ">>> arr = np.array([1, 2, 3, 4, 5, 6, 7, 8])\n",
    "\n",
    "# Anda dapat membalikkan dengan :\n",
    ">>> reversed_arr = np.flip(arr)\n",
    "\n",
    "# Jika Anda ingin mencetak larik terbalik, Anda dapat menjalankannya:\n",
    ">>> print('Reversed Array: ', reversed_arr)"
   ]
  },
  {
   "cell_type": "markdown",
   "metadata": {},
   "source": [
    "`Membalikkan larik 2D`\n",
    "\n",
    "Larik 2D bekerja dengan cara yang hampir sama. Jika Anda memulai dengan array ini :"
   ]
  },
  {
   "cell_type": "code",
   "execution_count": 105,
   "metadata": {},
   "outputs": [
    {
     "name": "stdout",
     "output_type": "stream",
     "text": [
      "[[12 11 10  9]\n",
      " [ 8  7  6  5]\n",
      " [ 4  3  2  1]]\n"
     ]
    }
   ],
   "source": [
    ">>> arr_2d = np.array([[1, 2, 3, 4], [5, 6, 7, 8], [9, 10, 11, 12]])\n",
    "\n",
    "# membalikkan konten di semua baris dan semua kolom dengan:\n",
    ">>> reversed_arr = np.flip(arr_2d)\n",
    ">>> print(reversed_arr)"
   ]
  },
  {
   "cell_type": "markdown",
   "metadata": {},
   "source": [
    "Anda dapat dengan mudah membalikkan hanya baris dengan :"
   ]
  },
  {
   "cell_type": "code",
   "execution_count": 106,
   "metadata": {},
   "outputs": [
    {
     "name": "stdout",
     "output_type": "stream",
     "text": [
      "[[ 9 10 11 12]\n",
      " [ 5  6  7  8]\n",
      " [ 1  2  3  4]]\n"
     ]
    }
   ],
   "source": [
    ">>> reversed_arr_rows = np.flip(arr_2d, axis=0)\n",
    ">>> print(reversed_arr_rows)"
   ]
  },
  {
   "cell_type": "markdown",
   "metadata": {},
   "source": [
    "Atau membalikkan hanya kolom dengan :"
   ]
  },
  {
   "cell_type": "code",
   "execution_count": 107,
   "metadata": {},
   "outputs": [
    {
     "name": "stdout",
     "output_type": "stream",
     "text": [
      "[[ 4  3  2  1]\n",
      " [ 8  7  6  5]\n",
      " [12 11 10  9]]\n"
     ]
    }
   ],
   "source": [
    ">>> reversed_arr_columns = np.flip(arr_2d, axis=1)\n",
    ">>> print(reversed_arr_columns)"
   ]
  },
  {
   "cell_type": "markdown",
   "metadata": {},
   "source": [
    "Anda juga dapat membalikkan isi hanya satu kolom atau baris. Misalnya, Anda dapat membalikkan isi baris pada posisi indeks 1 (baris kedua) :"
   ]
  },
  {
   "cell_type": "code",
   "execution_count": 108,
   "metadata": {},
   "outputs": [
    {
     "name": "stdout",
     "output_type": "stream",
     "text": [
      "[[ 1  2  3  4]\n",
      " [ 8  7  6  5]\n",
      " [ 9 10 11 12]]\n"
     ]
    }
   ],
   "source": [
    ">>> arr_2d[1] = np.flip(arr_2d[1])\n",
    ">>> print(arr_2d)"
   ]
  },
  {
   "cell_type": "markdown",
   "metadata": {},
   "source": [
    "Anda juga dapat membalikkan kolom pada posisi indeks 1 (kolom kedua) :"
   ]
  },
  {
   "cell_type": "code",
   "execution_count": 109,
   "metadata": {},
   "outputs": [
    {
     "name": "stdout",
     "output_type": "stream",
     "text": [
      "[[ 1 10  3  4]\n",
      " [ 8  7  6  5]\n",
      " [ 9  2 11 12]]\n"
     ]
    }
   ],
   "source": [
    ">>> arr_2d[:,1] = np.flip(arr_2d[:,1])\n",
    ">>> print(arr_2d)"
   ]
  },
  {
   "cell_type": "markdown",
   "metadata": {},
   "source": [
    "`23. MEMBENTUK ULANG DAN MERATAKAN SUSUNAN MULTIDIMENSI`\n",
    "\n",
    "Bagian ini mencakup .flatten(), ravel().\n",
    "\n",
    "Ada dua cara populer untuk meratakan larik: .flatten() dan .ravel(). Perbedaan utama antara keduanya adalah larik baru yang dibuat menggunakan ravel() sebenarnya merupakan referensi ke larik induk (yaitu, \"view\"). Ini berarti bahwa setiap perubahan pada larik baru akan mempengaruhi larik induk juga. Karena ravel tidak membuat salinan, maka ravel sangat efisien dalam penggunaan memori.\n",
    "\n",
    "Jika Anda memulai dengan array ini :"
   ]
  },
  {
   "cell_type": "code",
   "execution_count": 110,
   "metadata": {},
   "outputs": [],
   "source": [
    ">>> x = np.array([[1, 2, 3, 4], [5, 6, 7, 8], [9, 10, 11, 12]])"
   ]
  },
  {
   "cell_type": "markdown",
   "metadata": {},
   "source": [
    "Ketika Anda menggunakan flatten, perubahan pada larik baru Anda tidak akan mengubah larik induk.\n",
    "\n",
    "Sebagai contoh :"
   ]
  },
  {
   "cell_type": "code",
   "execution_count": 111,
   "metadata": {},
   "outputs": [
    {
     "name": "stdout",
     "output_type": "stream",
     "text": [
      "[[ 1  2  3  4]\n",
      " [ 5  6  7  8]\n",
      " [ 9 10 11 12]]\n"
     ]
    }
   ],
   "source": [
    ">>> a1 = x.flatten()\n",
    ">>> a1[0] = 99\n",
    ">>> print(x) "
   ]
  },
  {
   "cell_type": "code",
   "execution_count": 112,
   "metadata": {},
   "outputs": [
    {
     "name": "stdout",
     "output_type": "stream",
     "text": [
      "[99  2  3  4  5  6  7  8  9 10 11 12]\n"
     ]
    }
   ],
   "source": [
    ">>> print(a1)"
   ]
  },
  {
   "cell_type": "markdown",
   "metadata": {},
   "source": [
    "Namun ketika Anda menggunakan ravel, perubahan yang Anda buat pada larik baru akan mempengaruhi larik induk. Sebagai contoh:"
   ]
  },
  {
   "cell_type": "code",
   "execution_count": 113,
   "metadata": {},
   "outputs": [
    {
     "name": "stdout",
     "output_type": "stream",
     "text": [
      "[[98  2  3  4]\n",
      " [ 5  6  7  8]\n",
      " [ 9 10 11 12]]\n"
     ]
    }
   ],
   "source": [
    ">>> a2 = x.ravel()\n",
    ">>> a2[0] = 98\n",
    ">>> print(x)"
   ]
  },
  {
   "cell_type": "code",
   "execution_count": 114,
   "metadata": {},
   "outputs": [
    {
     "name": "stdout",
     "output_type": "stream",
     "text": [
      "[98  2  3  4  5  6  7  8  9 10 11 12]\n"
     ]
    }
   ],
   "source": [
    ">>> print(a2)"
   ]
  },
  {
   "cell_type": "markdown",
   "metadata": {},
   "source": [
    "`24. CARA MENGAKSES DOCSTRING UNTUK INFORMASI LEBIH LANJUT`\n",
    "\n",
    "Bagian ini mencakup help(), ?, ??\n",
    "\n",
    "Dalam hal ekosistem sains data, Python dan NumPy dibangun dengan mempertimbangkan pengguna. Salah satu contoh terbaiknya adalah akses bawaan ke dokumentasi. Setiap objek berisi referensi ke sebuah string, yang dikenal sebagai docstring. Dalam banyak kasus, docstring ini berisi ringkasan singkat dan ringkas tentang objek dan cara menggunakannya.\n",
    "Python memiliki fungsi help() bawaan yang dapat membantu Anda mengakses informasi ini. Ini berarti bahwa hampir setiap saat Anda membutuhkan informasi lebih lanjut, Anda dapat menggunakan help() untuk menemukan informasi yang Anda butuhkan dengan cepat. kebutuhan.\n",
    "\n",
    "Sebagai contoh:"
   ]
  },
  {
   "cell_type": "markdown",
   "metadata": {},
   "source": [
    ">>> help (max)\n",
    "max(...)\n",
    "    max(iterable, *[, default=obj, key=func]) -> value\n",
    "    max(arg1, arg2, *args, *[, key=func]) -> value\n",
    "    Dengan argumen iterable tunggal, kembalikan item terbesarnya.\n",
    "    Argumen default keyword-only menentukan objek yang akan\n",
    "    dikembalikan jika iterable yang disediakan kosong.\n",
    "    Dengan dua argumen atau lebih, kembalikan argumen terbesar."
   ]
  },
  {
   "cell_type": "markdown",
   "metadata": {},
   "source": [
    "Karena akses ke informasi tambahan sangat berguna, IPython menggunakan karakter ? sebagai singkatan untuk mengakses dokumentasi ini bersama dengan informasi lain yang relevan. IPython adalah sebuah command shell untuk komputasi interaktif dalam berbagai bahasa.\n",
    "\n",
    "Sebagai contoh :"
   ]
  },
  {
   "cell_type": "markdown",
   "metadata": {},
   "source": [
    "In [0]: max?\n",
    "max(iterable, *[, default=obj, key=func]) -> value\n",
    "max(arg1, arg2, *args, *[, key=func]) -> value\n",
    "\n",
    "Dengan argumen iterable tunggal, kembalikan item terbesarnya.\n",
    "Argumen default keyword-only menentukan objek yang akan\n",
    "dikembalikan jika iterable yang disediakan kosong. Dengan dua argumen atau lebih, kembalikan argumen terbesar. Ketik fungsi_atau_metode bawaan."
   ]
  },
  {
   "cell_type": "markdown",
   "metadata": {},
   "source": [
    "Anda bahkan dapat menggunakan notasi ini untuk metode objek dan objek itu sendiri. Katakanlah Anda membuat larik ini :"
   ]
  },
  {
   "cell_type": "code",
   "execution_count": 12,
   "metadata": {},
   "outputs": [
    {
     "name": "stdout",
     "output_type": "stream",
     "text": [
      "Help on built-in function array in module numpy:\n",
      "\n",
      "array(...)\n",
      "    array(object, dtype=None, *, copy=True, order='K', subok=False, ndmin=0,\n",
      "          like=None)\n",
      "\n",
      "    Create an array.\n",
      "\n",
      "    Parameters\n",
      "    ----------\n",
      "    object : array_like\n",
      "        An array, any object exposing the array interface, an object whose\n",
      "        ``__array__`` method returns an array, or any (nested) sequence.\n",
      "        If object is a scalar, a 0-dimensional array containing object is\n",
      "        returned.\n",
      "    dtype : data-type, optional\n",
      "        The desired data-type for the array. If not given, NumPy will try to use\n",
      "        a default ``dtype`` that can represent the values (by applying promotion\n",
      "        rules when necessary.)\n",
      "    copy : bool, optional\n",
      "        If true (default), then the object is copied.  Otherwise, a copy will\n",
      "        only be made if ``__array__`` returns a copy, if obj is a nested\n",
      "        sequence, or if a copy is needed to satisfy any of the other\n",
      "        requirements (``dtype``, ``order``, etc.).\n",
      "    order : {'K', 'A', 'C', 'F'}, optional\n",
      "        Specify the memory layout of the array. If object is not an array, the\n",
      "        newly created array will be in C order (row major) unless 'F' is\n",
      "        specified, in which case it will be in Fortran order (column major).\n",
      "        If object is an array the following holds.\n",
      "\n",
      "        ===== ========= ===================================================\n",
      "        order  no copy                     copy=True\n",
      "        ===== ========= ===================================================\n",
      "        'K'   unchanged F & C order preserved, otherwise most similar order\n",
      "        'A'   unchanged F order if input is F and not C, otherwise C order\n",
      "        'C'   C order   C order\n",
      "        'F'   F order   F order\n",
      "        ===== ========= ===================================================\n",
      "\n",
      "        When ``copy=False`` and a copy is made for other reasons, the result is\n",
      "        the same as if ``copy=True``, with some exceptions for 'A', see the\n",
      "        Notes section. The default order is 'K'.\n",
      "    subok : bool, optional\n",
      "        If True, then sub-classes will be passed-through, otherwise\n",
      "        the returned array will be forced to be a base-class array (default).\n",
      "    ndmin : int, optional\n",
      "        Specifies the minimum number of dimensions that the resulting\n",
      "        array should have.  Ones will be prepended to the shape as\n",
      "        needed to meet this requirement.\n",
      "    like : array_like, optional\n",
      "        Reference object to allow the creation of arrays which are not\n",
      "        NumPy arrays. If an array-like passed in as ``like`` supports\n",
      "        the ``__array_function__`` protocol, the result will be defined\n",
      "        by it. In this case, it ensures the creation of an array object\n",
      "        compatible with that passed in via this argument.\n",
      "\n",
      "        .. versionadded:: 1.20.0\n",
      "\n",
      "    Returns\n",
      "    -------\n",
      "    out : ndarray\n",
      "        An array object satisfying the specified requirements.\n",
      "\n",
      "    See Also\n",
      "    --------\n",
      "    empty_like : Return an empty array with shape and type of input.\n",
      "    ones_like : Return an array of ones with shape and type of input.\n",
      "    zeros_like : Return an array of zeros with shape and type of input.\n",
      "    full_like : Return a new array with shape of input filled with value.\n",
      "    empty : Return a new uninitialized array.\n",
      "    ones : Return a new array setting values to one.\n",
      "    zeros : Return a new array setting values to zero.\n",
      "    full : Return a new array of given shape filled with value.\n",
      "\n",
      "\n",
      "    Notes\n",
      "    -----\n",
      "    When order is 'A' and ``object`` is an array in neither 'C' nor 'F' order,\n",
      "    and a copy is forced by a change in dtype, then the order of the result is\n",
      "    not necessarily 'C' as expected. This is likely a bug.\n",
      "\n",
      "    Examples\n",
      "    --------\n",
      "    >>> np.array([1, 2, 3])\n",
      "    array([1, 2, 3])\n",
      "\n",
      "    Upcasting:\n",
      "\n",
      "    >>> np.array([1, 2, 3.0])\n",
      "    array([ 1.,  2.,  3.])\n",
      "\n",
      "    More than one dimension:\n",
      "\n",
      "    >>> np.array([[1, 2], [3, 4]])\n",
      "    array([[1, 2],\n",
      "           [3, 4]])\n",
      "\n",
      "    Minimum dimensions 2:\n",
      "\n",
      "    >>> np.array([1, 2, 3], ndmin=2)\n",
      "    array([[1, 2, 3]])\n",
      "\n",
      "    Type provided:\n",
      "\n",
      "    >>> np.array([1, 2, 3], dtype=complex)\n",
      "    array([ 1.+0.j,  2.+0.j,  3.+0.j])\n",
      "\n",
      "    Data-type consisting of more than one element:\n",
      "\n",
      "    >>> x = np.array([(1,2),(3,4)],dtype=[('a','<i4'),('b','<i4')])\n",
      "    >>> x['a']\n",
      "    array([1, 3])\n",
      "\n",
      "    Creating an array from sub-classes:\n",
      "\n",
      "    >>> np.array(np.mat('1 2; 3 4'))\n",
      "    array([[1, 2],\n",
      "           [3, 4]])\n",
      "\n",
      "    >>> np.array(np.mat('1 2; 3 4'), subok=True)\n",
      "    matrix([[1, 2],\n",
      "            [3, 4]])\n",
      "\n",
      "array(object, dtype=None, *, copy=True, order='K', subok=False, ndmin=0,\n",
      "          like=None)\n",
      "\n",
      "    Create an array.\n",
      "\n",
      "    Parameters\n",
      "    ----------\n",
      "    object : array_like\n",
      "        An array, any object exposing the array interface, an object whose\n",
      "        ``__array__`` method returns an array, or any (nested) sequence.\n",
      "        If object is a scalar, a 0-dimensional array containing object is\n",
      "        returned.\n",
      "    dtype : data-type, optional\n",
      "        The desired data-type for the array. If not given, NumPy will try to use\n",
      "        a default ``dtype`` that can represent the values (by applying promotion\n",
      "        rules when necessary.)\n",
      "    copy : bool, optional\n",
      "        If true (default), then the object is copied.  Otherwise, a copy will\n",
      "        only be made if ``__array__`` returns a copy, if obj is a nested\n",
      "        sequence, or if a copy is needed to satisfy any of the other\n",
      "        requirements (``dtype``, ``order``, etc.).\n",
      "    order : {'K', 'A', 'C', 'F'}, optional\n",
      "        Specify the memory layout of the array. If object is not an array, the\n",
      "        newly created array will be in C order (row major) unless 'F' is\n",
      "        specified, in which case it will be in Fortran order (column major).\n",
      "        If object is an array the following holds.\n",
      "\n",
      "        ===== ========= ===================================================\n",
      "        order  no copy                     copy=True\n",
      "        ===== ========= ===================================================\n",
      "        'K'   unchanged F & C order preserved, otherwise most similar order\n",
      "        'A'   unchanged F order if input is F and not C, otherwise C order\n",
      "        'C'   C order   C order\n",
      "        'F'   F order   F order\n",
      "        ===== ========= ===================================================\n",
      "\n",
      "        When ``copy=False`` and a copy is made for other reasons, the result is\n",
      "        the same as if ``copy=True``, with some exceptions for 'A', see the\n",
      "        Notes section. The default order is 'K'.\n",
      "    subok : bool, optional\n",
      "        If True, then sub-classes will be passed-through, otherwise\n",
      "        the returned array will be forced to be a base-class array (default).\n",
      "    ndmin : int, optional\n",
      "        Specifies the minimum number of dimensions that the resulting\n",
      "        array should have.  Ones will be prepended to the shape as\n",
      "        needed to meet this requirement.\n",
      "    like : array_like, optional\n",
      "        Reference object to allow the creation of arrays which are not\n",
      "        NumPy arrays. If an array-like passed in as ``like`` supports\n",
      "        the ``__array_function__`` protocol, the result will be defined\n",
      "        by it. In this case, it ensures the creation of an array object\n",
      "        compatible with that passed in via this argument.\n",
      "\n",
      "        .. versionadded:: 1.20.0\n",
      "\n",
      "    Returns\n",
      "    -------\n",
      "    out : ndarray\n",
      "        An array object satisfying the specified requirements.\n",
      "\n",
      "    See Also\n",
      "    --------\n",
      "    empty_like : Return an empty array with shape and type of input.\n",
      "    ones_like : Return an array of ones with shape and type of input.\n",
      "    zeros_like : Return an array of zeros with shape and type of input.\n",
      "    full_like : Return a new array with shape of input filled with value.\n",
      "    empty : Return a new uninitialized array.\n",
      "    ones : Return a new array setting values to one.\n",
      "    zeros : Return a new array setting values to zero.\n",
      "    full : Return a new array of given shape filled with value.\n",
      "\n",
      "\n",
      "    Notes\n",
      "    -----\n",
      "    When order is 'A' and ``object`` is an array in neither 'C' nor 'F' order,\n",
      "    and a copy is forced by a change in dtype, then the order of the result is\n",
      "    not necessarily 'C' as expected. This is likely a bug.\n",
      "\n",
      "    Examples\n",
      "    --------\n",
      "    >>> np.array([1, 2, 3])\n",
      "    array([1, 2, 3])\n",
      "\n",
      "    Upcasting:\n",
      "\n",
      "    >>> np.array([1, 2, 3.0])\n",
      "    array([ 1.,  2.,  3.])\n",
      "\n",
      "    More than one dimension:\n",
      "\n",
      "    >>> np.array([[1, 2], [3, 4]])\n",
      "    array([[1, 2],\n",
      "           [3, 4]])\n",
      "\n",
      "    Minimum dimensions 2:\n",
      "\n",
      "    >>> np.array([1, 2, 3], ndmin=2)\n",
      "    array([[1, 2, 3]])\n",
      "\n",
      "    Type provided:\n",
      "\n",
      "    >>> np.array([1, 2, 3], dtype=complex)\n",
      "    array([ 1.+0.j,  2.+0.j,  3.+0.j])\n",
      "\n",
      "    Data-type consisting of more than one element:\n",
      "\n",
      "    >>> x = np.array([(1,2),(3,4)],dtype=[('a','<i4'),('b','<i4')])\n",
      "    >>> x['a']\n",
      "    array([1, 3])\n",
      "\n",
      "    Creating an array from sub-classes:\n",
      "\n",
      "    >>> np.array(np.mat('1 2; 3 4'))\n",
      "    array([[1, 2],\n",
      "           [3, 4]])\n",
      "\n",
      "    >>> np.array(np.mat('1 2; 3 4'), subok=True)\n",
      "    matrix([[1, 2],\n",
      "            [3, 4]])\n"
     ]
    }
   ],
   "source": [
    "import numpy as np\n",
    "\n",
    "a = np.array([1, 2, 3, 4, 5, 6])\n",
    "# Mendapatkan dokumentasi untuk np.array\n",
    "help(np.array)\n",
    "\n",
    "# Mendapatkan dokumentasi untuk np.array\n",
    "print(np.array.__doc__)\n"
   ]
  },
  {
   "cell_type": "markdown",
   "metadata": {},
   "source": [
    "Hal ini juga berlaku untuk fungsi dan objek lain yang Anda buat. Ingatlah untuk menyertakan docstring dengan fungsi Anda menggunakan string literal (\"\"\" \"\"\" atau ''' ''' di sekitar\n",
    "dokumentasi Anda).\n",
    "\n",
    "Contohnya , jika Anda membuat fungsi ini :"
   ]
  },
  {
   "cell_type": "code",
   "execution_count": 14,
   "metadata": {},
   "outputs": [],
   "source": [
    "import numpy as np\n",
    "\n",
    "def double(a):\n",
    "    '''Kembalikan a * 2'''\n",
    "    return a * 2"
   ]
  },
  {
   "cell_type": "markdown",
   "metadata": {},
   "source": [
    "Anda dapat memperoleh informasi mengenai fungsi tersebut :"
   ]
  },
  {
   "cell_type": "markdown",
   "metadata": {},
   "source": [
    "In [2]: double?\n",
    "Tanda tangan: double(a)\n",
    "Docstring: Kembalikan a* 2\n",
    "File:~/Desktop/<ipython-input-23-b5adf20be596>\n",
    "Ketik:fungsi"
   ]
  },
  {
   "cell_type": "markdown",
   "metadata": {},
   "source": [
    "Anda dapat mencapai tingkat informasi yang lebih tinggi dengan membaca kode sumber objek yang Anda minati. Dengan menggunakan tanda tanya ganda (??), Anda dapat mengakses kode sumber.\n",
    "\n",
    "Sebagai contoh :"
   ]
  },
  {
   "cell_type": "markdown",
   "metadata": {},
   "source": [
    "Signature: double(a)\n",
    "Source:\n",
    "def double(a):\n",
    "    '''Return a * 2'''\n",
    "    return a * 2\n",
    "File: ~/Desktop/<ipython-input-23-b5adf20be596>\n",
    "Type: function"
   ]
  },
  {
   "cell_type": "markdown",
   "metadata": {},
   "source": [
    "Jika objek yang dimaksud dikompilasi dalam bahasa selain Python, menggunakan ?? akan mengembalikan informasi yang sama dengan ?. Anda akan menemukan hal ini pada banyak objek dan tipe bawaan, misalnya :"
   ]
  },
  {
   "cell_type": "markdown",
   "metadata": {},
   "source": [
    "`25. BEKERJA DENGAN RUMUS MATEMATIKA`\n",
    "\n",
    "Kemudahan dalam mengimplementasikan rumus matematika yang bekerja pada array adalah salah satu hal yang membuat NumPy banyak digunakan dalam komunitas Python\n",
    "ilmiah.\n",
    "\n",
    "Sebagai contoh, ini adalah rumus mean square error (rumus utama yang digunakan dalam model pembelajaran mesin terawasi yang menangani regresi) :"
   ]
  },
  {
   "cell_type": "code",
   "execution_count": 26,
   "metadata": {},
   "outputs": [
    {
     "name": "stderr",
     "output_type": "stream",
     "text": [
      "C:\\Users\\ASUS\\AppData\\Local\\Temp\\ipykernel_17632\\1075339437.py:4: DeprecationWarning: Starting with ImageIO v3 the behavior of this function will switch to that of iio.v3.imread. To keep the current behavior (and make this warning disappear) use `import imageio.v2 as imageio` or call `imageio.v2.imread` directly.\n",
      "  img_array = imageio.imread('images.jpeg')\n"
     ]
    },
    {
     "ename": "FileNotFoundError",
     "evalue": "No such file: 'c:\\Users\\ASUS\\Downloads\\PROLAN-KHIFAYAH NASYWA AL MISRA\\images.jpeg'",
     "output_type": "error",
     "traceback": [
      "\u001b[1;31m---------------------------------------------------------------------------\u001b[0m",
      "\u001b[1;31mFileNotFoundError\u001b[0m                         Traceback (most recent call last)",
      "Cell \u001b[1;32mIn[26], line 4\u001b[0m\n\u001b[0;32m      1\u001b[0m \u001b[38;5;28;01mimport\u001b[39;00m \u001b[38;5;21;01mimageio\u001b[39;00m  \u001b[38;5;66;03m# Jika Anda menggunakan imageio\u001b[39;00m\n\u001b[0;32m      3\u001b[0m \u001b[38;5;66;03m# Baca gambar sebagai array NumPy\u001b[39;00m\n\u001b[1;32m----> 4\u001b[0m img_array \u001b[38;5;241m=\u001b[39m \u001b[43mimageio\u001b[49m\u001b[38;5;241;43m.\u001b[39;49m\u001b[43mimread\u001b[49m\u001b[43m(\u001b[49m\u001b[38;5;124;43m'\u001b[39;49m\u001b[38;5;124;43mimages.jpeg\u001b[39;49m\u001b[38;5;124;43m'\u001b[39;49m\u001b[43m)\u001b[49m\n",
      "File \u001b[1;32mc:\\Users\\ASUS\\AppData\\Local\\Programs\\Python\\Python312\\Lib\\site-packages\\imageio\\__init__.py:97\u001b[0m, in \u001b[0;36mimread\u001b[1;34m(uri, format, **kwargs)\u001b[0m\n\u001b[0;32m     68\u001b[0m \u001b[38;5;250m\u001b[39m\u001b[38;5;124;03m\"\"\"imread(uri, format=None, **kwargs)\u001b[39;00m\n\u001b[0;32m     69\u001b[0m \n\u001b[0;32m     70\u001b[0m \u001b[38;5;124;03mReads an image from the specified file. Returns a numpy array, which\u001b[39;00m\n\u001b[1;32m   (...)\u001b[0m\n\u001b[0;32m     86\u001b[0m \u001b[38;5;124;03m    to see what arguments are available for a particular format.\u001b[39;00m\n\u001b[0;32m     87\u001b[0m \u001b[38;5;124;03m\"\"\"\u001b[39;00m\n\u001b[0;32m     89\u001b[0m warnings\u001b[38;5;241m.\u001b[39mwarn(\n\u001b[0;32m     90\u001b[0m     \u001b[38;5;124m\"\u001b[39m\u001b[38;5;124mStarting with ImageIO v3 the behavior of this function will switch to that of\u001b[39m\u001b[38;5;124m\"\u001b[39m\n\u001b[0;32m     91\u001b[0m     \u001b[38;5;124m\"\u001b[39m\u001b[38;5;124m iio.v3.imread. To keep the current behavior (and make this warning disappear)\u001b[39m\u001b[38;5;124m\"\u001b[39m\n\u001b[1;32m   (...)\u001b[0m\n\u001b[0;32m     94\u001b[0m     stacklevel\u001b[38;5;241m=\u001b[39m\u001b[38;5;241m2\u001b[39m,\n\u001b[0;32m     95\u001b[0m )\n\u001b[1;32m---> 97\u001b[0m \u001b[38;5;28;01mreturn\u001b[39;00m \u001b[43mimread_v2\u001b[49m\u001b[43m(\u001b[49m\u001b[43muri\u001b[49m\u001b[43m,\u001b[49m\u001b[43m \u001b[49m\u001b[38;5;28;43mformat\u001b[39;49m\u001b[38;5;241;43m=\u001b[39;49m\u001b[38;5;28;43mformat\u001b[39;49m\u001b[43m,\u001b[49m\u001b[43m \u001b[49m\u001b[38;5;241;43m*\u001b[39;49m\u001b[38;5;241;43m*\u001b[39;49m\u001b[43mkwargs\u001b[49m\u001b[43m)\u001b[49m\n",
      "File \u001b[1;32mc:\\Users\\ASUS\\AppData\\Local\\Programs\\Python\\Python312\\Lib\\site-packages\\imageio\\v2.py:359\u001b[0m, in \u001b[0;36mimread\u001b[1;34m(uri, format, **kwargs)\u001b[0m\n\u001b[0;32m    356\u001b[0m imopen_args \u001b[38;5;241m=\u001b[39m decypher_format_arg(\u001b[38;5;28mformat\u001b[39m)\n\u001b[0;32m    357\u001b[0m imopen_args[\u001b[38;5;124m\"\u001b[39m\u001b[38;5;124mlegacy_mode\u001b[39m\u001b[38;5;124m\"\u001b[39m] \u001b[38;5;241m=\u001b[39m \u001b[38;5;28;01mTrue\u001b[39;00m\n\u001b[1;32m--> 359\u001b[0m \u001b[38;5;28;01mwith\u001b[39;00m \u001b[43mimopen\u001b[49m\u001b[43m(\u001b[49m\u001b[43muri\u001b[49m\u001b[43m,\u001b[49m\u001b[43m \u001b[49m\u001b[38;5;124;43m\"\u001b[39;49m\u001b[38;5;124;43mri\u001b[39;49m\u001b[38;5;124;43m\"\u001b[39;49m\u001b[43m,\u001b[49m\u001b[43m \u001b[49m\u001b[38;5;241;43m*\u001b[39;49m\u001b[38;5;241;43m*\u001b[39;49m\u001b[43mimopen_args\u001b[49m\u001b[43m)\u001b[49m \u001b[38;5;28;01mas\u001b[39;00m file:\n\u001b[0;32m    360\u001b[0m     result \u001b[38;5;241m=\u001b[39m file\u001b[38;5;241m.\u001b[39mread(index\u001b[38;5;241m=\u001b[39m\u001b[38;5;241m0\u001b[39m, \u001b[38;5;241m*\u001b[39m\u001b[38;5;241m*\u001b[39mkwargs)\n\u001b[0;32m    362\u001b[0m \u001b[38;5;28;01mreturn\u001b[39;00m result\n",
      "File \u001b[1;32mc:\\Users\\ASUS\\AppData\\Local\\Programs\\Python\\Python312\\Lib\\site-packages\\imageio\\core\\imopen.py:113\u001b[0m, in \u001b[0;36mimopen\u001b[1;34m(uri, io_mode, plugin, extension, format_hint, legacy_mode, **kwargs)\u001b[0m\n\u001b[0;32m    111\u001b[0m     request\u001b[38;5;241m.\u001b[39mformat_hint \u001b[38;5;241m=\u001b[39m format_hint\n\u001b[0;32m    112\u001b[0m \u001b[38;5;28;01melse\u001b[39;00m:\n\u001b[1;32m--> 113\u001b[0m     request \u001b[38;5;241m=\u001b[39m \u001b[43mRequest\u001b[49m\u001b[43m(\u001b[49m\u001b[43muri\u001b[49m\u001b[43m,\u001b[49m\u001b[43m \u001b[49m\u001b[43mio_mode\u001b[49m\u001b[43m,\u001b[49m\u001b[43m \u001b[49m\u001b[43mformat_hint\u001b[49m\u001b[38;5;241;43m=\u001b[39;49m\u001b[43mformat_hint\u001b[49m\u001b[43m,\u001b[49m\u001b[43m \u001b[49m\u001b[43mextension\u001b[49m\u001b[38;5;241;43m=\u001b[39;49m\u001b[43mextension\u001b[49m\u001b[43m)\u001b[49m\n\u001b[0;32m    115\u001b[0m source \u001b[38;5;241m=\u001b[39m \u001b[38;5;124m\"\u001b[39m\u001b[38;5;124m<bytes>\u001b[39m\u001b[38;5;124m\"\u001b[39m \u001b[38;5;28;01mif\u001b[39;00m \u001b[38;5;28misinstance\u001b[39m(uri, \u001b[38;5;28mbytes\u001b[39m) \u001b[38;5;28;01melse\u001b[39;00m uri\n\u001b[0;32m    117\u001b[0m \u001b[38;5;66;03m# fast-path based on plugin\u001b[39;00m\n\u001b[0;32m    118\u001b[0m \u001b[38;5;66;03m# (except in legacy mode)\u001b[39;00m\n",
      "File \u001b[1;32mc:\\Users\\ASUS\\AppData\\Local\\Programs\\Python\\Python312\\Lib\\site-packages\\imageio\\core\\request.py:247\u001b[0m, in \u001b[0;36mRequest.__init__\u001b[1;34m(self, uri, mode, extension, format_hint, **kwargs)\u001b[0m\n\u001b[0;32m    244\u001b[0m     \u001b[38;5;28;01mraise\u001b[39;00m \u001b[38;5;167;01mValueError\u001b[39;00m(\u001b[38;5;124mf\u001b[39m\u001b[38;5;124m\"\u001b[39m\u001b[38;5;124mInvalid Request.Mode: \u001b[39m\u001b[38;5;132;01m{\u001b[39;00mmode\u001b[38;5;132;01m}\u001b[39;00m\u001b[38;5;124m\"\u001b[39m)\n\u001b[0;32m    246\u001b[0m \u001b[38;5;66;03m# Parse what was given\u001b[39;00m\n\u001b[1;32m--> 247\u001b[0m \u001b[38;5;28;43mself\u001b[39;49m\u001b[38;5;241;43m.\u001b[39;49m\u001b[43m_parse_uri\u001b[49m\u001b[43m(\u001b[49m\u001b[43muri\u001b[49m\u001b[43m)\u001b[49m\n\u001b[0;32m    249\u001b[0m \u001b[38;5;66;03m# Set extension\u001b[39;00m\n\u001b[0;32m    250\u001b[0m \u001b[38;5;28;01mif\u001b[39;00m extension \u001b[38;5;129;01mis\u001b[39;00m \u001b[38;5;129;01mnot\u001b[39;00m \u001b[38;5;28;01mNone\u001b[39;00m:\n",
      "File \u001b[1;32mc:\\Users\\ASUS\\AppData\\Local\\Programs\\Python\\Python312\\Lib\\site-packages\\imageio\\core\\request.py:407\u001b[0m, in \u001b[0;36mRequest._parse_uri\u001b[1;34m(self, uri)\u001b[0m\n\u001b[0;32m    404\u001b[0m \u001b[38;5;28;01mif\u001b[39;00m is_read_request:\n\u001b[0;32m    405\u001b[0m     \u001b[38;5;66;03m# Reading: check that the file exists (but is allowed a dir)\u001b[39;00m\n\u001b[0;32m    406\u001b[0m     \u001b[38;5;28;01mif\u001b[39;00m \u001b[38;5;129;01mnot\u001b[39;00m os\u001b[38;5;241m.\u001b[39mpath\u001b[38;5;241m.\u001b[39mexists(fn):\n\u001b[1;32m--> 407\u001b[0m         \u001b[38;5;28;01mraise\u001b[39;00m \u001b[38;5;167;01mFileNotFoundError\u001b[39;00m(\u001b[38;5;124m\"\u001b[39m\u001b[38;5;124mNo such file: \u001b[39m\u001b[38;5;124m'\u001b[39m\u001b[38;5;132;01m%s\u001b[39;00m\u001b[38;5;124m'\u001b[39m\u001b[38;5;124m\"\u001b[39m \u001b[38;5;241m%\u001b[39m fn)\n\u001b[0;32m    408\u001b[0m \u001b[38;5;28;01melse\u001b[39;00m:\n\u001b[0;32m    409\u001b[0m     \u001b[38;5;66;03m# Writing: check that the directory to write to does exist\u001b[39;00m\n\u001b[0;32m    410\u001b[0m     dn \u001b[38;5;241m=\u001b[39m os\u001b[38;5;241m.\u001b[39mpath\u001b[38;5;241m.\u001b[39mdirname(fn)\n",
      "\u001b[1;31mFileNotFoundError\u001b[0m: No such file: 'c:\\Users\\ASUS\\Downloads\\PROLAN-KHIFAYAH NASYWA AL MISRA\\images.jpeg'"
     ]
    }
   ],
   "source": [
    "import numpy as nnp\n",
    "import imageio  # Jika Anda menggunakan imageio\n",
    "\n",
    "# Baca gambar sebagai array NumPy\n",
    "img_array = imageio.imread('images.jpeg')"
   ]
  },
  {
   "cell_type": "markdown",
   "metadata": {},
   "source": [
    "Menerapkan rumus ini sederhana dan mudah di Numpy :"
   ]
  },
  {
   "cell_type": "code",
   "execution_count": 27,
   "metadata": {},
   "outputs": [
    {
     "ename": "SyntaxError",
     "evalue": "invalid syntax (743578273.py, line 1)",
     "output_type": "error",
     "traceback": [
      "\u001b[1;36m  Cell \u001b[1;32mIn[27], line 1\u001b[1;36m\u001b[0m\n\u001b[1;33m    error = (1/n) * np.sum(np.square(predictions - labels-))\u001b[0m\n\u001b[1;37m                                                          ^\u001b[0m\n\u001b[1;31mSyntaxError\u001b[0m\u001b[1;31m:\u001b[0m invalid syntax\n"
     ]
    }
   ],
   "source": [
    "error = (1/n) * np.sum(np.square(predictions - labels-))"
   ]
  },
  {
   "cell_type": "code",
   "execution_count": 28,
   "metadata": {},
   "outputs": [
    {
     "name": "stdout",
     "output_type": "stream",
     "text": [
      "Error: 0.0\n"
     ]
    }
   ],
   "source": [
    "import numpy as np\n",
    "\n",
    "# Prediksi\n",
    "predictions = np.array([1, 2, 3, 4, 5])\n",
    "\n",
    "# Label\n",
    "labels = np.array([1, 2, 3, 4, 5])\n",
    "\n",
    "# Menghitung jumlah data (n)\n",
    "n = len(predictions)\n",
    "\n",
    "# Menghitung error\n",
    "error = (1/n) * np.sum(np.square(predictions - labels))\n",
    "\n",
    "print(\"Error:\", error)"
   ]
  },
  {
   "cell_type": "markdown",
   "metadata": {},
   "source": [
    "Apa yang membuat ini bekerja dengan sangat baik adalah bahwa `prediksi` dan `label` dapat berisi satu atau seribu nilai. Mereka hanya perlu memiliki ukuran yang sama."
   ]
  },
  {
   "cell_type": "markdown",
   "metadata": {},
   "source": [
    "`26. BAGAIMANA CARA MENYIMPAN DAN MEMUAT OBJEK NumPy`\n",
    "\n",
    "Bagian ini mencakup `np.save`, `np.saves`, `np.savetxt`, `np.load`, `np.loadtxt`.\n",
    "\n",
    "Ada beberapa cara untuk menyimpan dan memuat objek dengan Numpy. Objek-objek larik dapat disimpan dan dimuat dari file disk dengan fungsi `loadtxt` dan `savetxt` yang menangani file teks normal, fungsi `muat` dan `simpan` yang menangani file biner NumPy dengan ekstensi file.npy, dan fungsi `savez` yang menangani file NumPy dengan ekstensi file .npz.\n",
    "\n",
    "File .npy dan .npz menyimpan data, bentuk, dtype, dan informasi lain yang diperlukan untuk merekonstruksi ndarray dengan cara yang memungkinkan array diambil dengan benar, bahkan ketika file tersebut berada di mesin lain dengan arsitektur yang berbeda.\n",
    "\n",
    "Jika Anda ingin menyimpan satu objek larik tunggal, simpanlah sebagai file .npy menggunakan np.save. Jika Anda ingin menyimpan lebih dari satu objek larik dalam satu berkas, simpan sebagai berkas .npz menggunakan np.savez. Anda juga dapat menyimpan beberapa larik ke dalam satu file dalam format npz terkompresi dengan savez_compressed.\n",
    "\n",
    "Sangat mudah untuk menyimpan dan memuat dan larik dengan np.save(). Pastikan Anda menentukan larik yang ingin Anda simpan dan nama file. Sebagai contoh, jika Anda membuat larik ini :"
   ]
  },
  {
   "cell_type": "code",
   "execution_count": 29,
   "metadata": {},
   "outputs": [],
   "source": [
    ">>> a = np.array([1, 2, 3, 4, 5, 6])"
   ]
  },
  {
   "cell_type": "markdown",
   "metadata": {},
   "source": [
    "Anda dapat menyimpannya sebagai \"nama file.npy\" dengan :"
   ]
  },
  {
   "cell_type": "code",
   "execution_count": 55,
   "metadata": {},
   "outputs": [],
   "source": [
    ">>> np.save('MA23-231021006-Tugas 5.ipynb', a)"
   ]
  },
  {
   "cell_type": "markdown",
   "metadata": {},
   "source": [
    "Anda dapat menggunakan np.load() untuk merekonstruksi larik Anda."
   ]
  },
  {
   "cell_type": "code",
   "execution_count": null,
   "metadata": {},
   "outputs": [],
   "source": [
    ">>> np.load('namafile.npy', a)"
   ]
  },
  {
   "cell_type": "code",
   "execution_count": 69,
   "metadata": {},
   "outputs": [
    {
     "name": "stdout",
     "output_type": "stream",
     "text": [
      "[1 2 3 4 5 6]\n"
     ]
    }
   ],
   "source": [
    ">>> print(a)"
   ]
  },
  {
   "cell_type": "markdown",
   "metadata": {},
   "source": [
    "Anda dapat menyimpan larik NumPy sebagai file teks biasa seperti file .csv atau .txt dengan np.savetxt. Sebagai contoh, jika Anda membuat larik ini :"
   ]
  },
  {
   "cell_type": "code",
   "execution_count": 70,
   "metadata": {},
   "outputs": [],
   "source": [
    ">>> csv_arr = np.array([1, 2, 3, 4, 5, 6, 7, 8])"
   ]
  },
  {
   "cell_type": "markdown",
   "metadata": {},
   "source": [
    "Anda dapat dengan mudah menyimpannya sebagai file .csv dengan nama \"new_file.csv\" seperti ini :"
   ]
  },
  {
   "cell_type": "code",
   "execution_count": 71,
   "metadata": {},
   "outputs": [],
   "source": [
    ">>> np.savetxt('new_file.csv', csv_arr)"
   ]
  },
  {
   "cell_type": "markdown",
   "metadata": {},
   "source": [
    "Anda dapat dengan cepat dan mudah memuat file teks yang tersimpan dengan menggunakan loadtxt() :"
   ]
  },
  {
   "cell_type": "code",
   "execution_count": 72,
   "metadata": {},
   "outputs": [
    {
     "data": {
      "text/plain": [
       "array([1., 2., 3., 4., 5., 6., 7., 8.])"
      ]
     },
     "execution_count": 72,
     "metadata": {},
     "output_type": "execute_result"
    }
   ],
   "source": [
    ">>> np.loadtxt('new_file.csv')"
   ]
  },
  {
   "cell_type": "markdown",
   "metadata": {},
   "source": [
    "Fungsi savetxt () dan loadtxt () menerima parameter opsional tambahan seperti header, footer, dan pembatas. Meskipun file teks lebih mudah untuk dibagikan, file .npy dan . npz lebih\n",
    "kecil dan lebih cepat dibaca. Jika Anda membutuhkan penanganan yang lebih canggih untuk file teks Anda (misalnya, jika Anda perlu bekerja dengan baris yang berisi nilai yang hilang), Anda akan ingin menggunakan fungsi genfromtxt.\n",
    "Dengan savetxt, Anda dapat menentukan header, footer, komentar, dan banyak lagi."
   ]
  },
  {
   "cell_type": "markdown",
   "metadata": {},
   "source": [
    "`27. MENGIMPOR DAN MENGEKSPOR CSV`\n",
    "\n",
    "Sangat mudah untuk membaca CSV yang berisi informasi yang ada. Cara terbaik dan termudah untuk melakukannya adalah dengan menggunakan Panda."
   ]
  },
  {
   "cell_type": "code",
   "execution_count": null,
   "metadata": {},
   "outputs": [],
   "source": [
    "import pandas as pd\n",
    "\n",
    "# Jika semua kolom Anda memiliki tipe yang sama:\n",
    "df = pd.read_csv('housing.csv')\n",
    "\n",
    "x = pd.read_csv('housing.csv', header=0).values\n",
    "print(x)"
   ]
  },
  {
   "cell_type": "code",
   "execution_count": null,
   "metadata": {},
   "outputs": [],
   "source": [
    ">>> import pandas as pd\n",
    "\n",
    ">>> # Anda juga dapat memilih kolom yang Anda perlukan:\n",
    ">>> x = pd.read_csv('housing.csv', usecols=['Artist', 'Plays']).values\n",
    ">>> print(x)"
   ]
  },
  {
   "cell_type": "markdown",
   "metadata": {},
   "source": [
    "Sangat mudah untuk menggunakan Pandas untuk mengekspor larik Anda juga. Jika Anda baru mengenal NumPy, Anda mungkin ingin membuat sebuah dataframe Pandas dari nilai-nilai di dalam larik Anda dan kemudian menulis dataframe tersebut ke sebuah file CSV dengan Pandas.\n",
    "\n",
    "Jika Anda membuat larik ini \"a\""
   ]
  },
  {
   "cell_type": "code",
   "execution_count": 10,
   "metadata": {},
   "outputs": [
    {
     "ename": "NameError",
     "evalue": "name 'np' is not defined",
     "output_type": "error",
     "traceback": [
      "\u001b[1;31m---------------------------------------------------------------------------\u001b[0m",
      "\u001b[1;31mNameError\u001b[0m                                 Traceback (most recent call last)",
      "Cell \u001b[1;32mIn[10], line 1\u001b[0m\n\u001b[1;32m----> 1\u001b[0m a \u001b[38;5;241m=\u001b[39m \u001b[43mnp\u001b[49m\u001b[38;5;241m.\u001b[39marray([[\u001b[38;5;241m-\u001b[39m\u001b[38;5;241m2.58289208\u001b[39m, \u001b[38;5;241m0.43014843\u001b[39m, \u001b[38;5;241m-\u001b[39m\u001b[38;5;241m1.24082018\u001b[39m, \u001b[38;5;241m1.59572603\u001b[39m],\n\u001b[0;32m      2\u001b[0m                   [ \u001b[38;5;241m0.99027828\u001b[39m, \u001b[38;5;241m1.17150989\u001b[39m, \u001b[38;5;241m0.94125714\u001b[39m, \u001b[38;5;241m-\u001b[39m\u001b[38;5;241m0.14692469\u001b[39m],\n\u001b[0;32m      3\u001b[0m                   [ \u001b[38;5;241m0.76989341\u001b[39m, \u001b[38;5;241m0.81299683\u001b[39m, \u001b[38;5;241m-\u001b[39m\u001b[38;5;241m0.95068423\u001b[39m, \u001b[38;5;241m0.11769564\u001b[39m],\n\u001b[0;32m      4\u001b[0m                   [ \u001b[38;5;241m0.20484034\u001b[39m, \u001b[38;5;241m0.34784527\u001b[39m, \u001b[38;5;241m1.96979195\u001b[39m,\n\u001b[0;32m      5\u001b[0m \u001b[38;5;241m0.51992837\u001b[39m]])\n\u001b[0;32m      7\u001b[0m \u001b[38;5;66;03m# Anda dapat membuat kerangka data Pandas\u001b[39;00m\n\u001b[0;32m      8\u001b[0m df \u001b[38;5;241m=\u001b[39m pd\u001b[38;5;241m.\u001b[39mDataFrame(a)\n",
      "\u001b[1;31mNameError\u001b[0m: name 'np' is not defined"
     ]
    }
   ],
   "source": [
    ">>> a = np.array([[-2.58289208, 0.43014843, -1.24082018, 1.59572603],\n",
    "                  [ 0.99027828, 1.17150989, 0.94125714, -0.14692469],\n",
    "                  [ 0.76989341, 0.81299683, -0.95068423, 0.11769564],\n",
    "                  [ 0.20484034, 0.34784527, 1.96979195,\n",
    "0.51992837]])\n",
    "\n",
    "# Anda dapat membuat kerangka data Pandas\n",
    "df = pd.DataFrame(a)\n",
    "print(df)"
   ]
  },
  {
   "cell_type": "markdown",
   "metadata": {},
   "source": [
    "Anda dapat dengan mudah menyimpan bingkai data Anda :"
   ]
  },
  {
   "cell_type": "code",
   "execution_count": null,
   "metadata": {},
   "outputs": [],
   "source": [
    ">>> df.to_csv('pd.csv')"
   ]
  },
  {
   "cell_type": "markdown",
   "metadata": {},
   "source": [
    "Dan baca CSV Anda dengan :"
   ]
  },
  {
   "cell_type": "code",
   "execution_count": null,
   "metadata": {},
   "outputs": [],
   "source": [
    ">>> data = pd.read_csv('pd.csv')"
   ]
  },
  {
   "cell_type": "markdown",
   "metadata": {},
   "source": [
    "Anda juga dapat menyimpan larik Anda dengan metode NumPy savetxt."
   ]
  },
  {
   "cell_type": "code",
   "execution_count": null,
   "metadata": {},
   "outputs": [
    {
     "ename": "SyntaxError",
     "evalue": "unterminated string literal (detected at line 1) (446325956.py, line 1)",
     "output_type": "error",
     "traceback": [
      "\u001b[1;36m  Cell \u001b[1;32mIn[1], line 1\u001b[1;36m\u001b[0m\n\u001b[1;33m    np.savetxt'np.csv', a, fmt='%.2f', delimiter=',', header='1, 2,\u001b[0m\n\u001b[1;37m                                                             ^\u001b[0m\n\u001b[1;31mSyntaxError\u001b[0m\u001b[1;31m:\u001b[0m unterminated string literal (detected at line 1)\n"
     ]
    }
   ],
   "source": [
    ">>> np.savetxt('np.csv', a, fmt='%.2f', delimiter=',', header='1, 2, 3, 4')"
   ]
  },
  {
   "cell_type": "markdown",
   "metadata": {},
   "source": [
    "`28. MERENCANAKAN ARRAY DENGAN MATPLOTLIB`\n",
    "\n",
    "Jika Anda perlu membuat plot untuk nilai-nilai Anda, caranya sangat mudah dengan `Matplotlib`.\n",
    "\n",
    "Sebagai contoh, Anda mungkin memiliki susunan seperti ini :"
   ]
  },
  {
   "cell_type": "code",
   "execution_count": null,
   "metadata": {},
   "outputs": [
    {
     "ename": "SyntaxError",
     "evalue": "invalid syntax (4279239557.py, line 4)",
     "output_type": "error",
     "traceback": [
      "\u001b[1;36m  Cell \u001b[1;32mIn[7], line 4\u001b[1;36m\u001b[0m\n\u001b[1;33m    >>> a = np.array([2, 1, 5, 7, 4, 6, 8, 14, 10, 9, 18, 20, 22])\u001b[0m\n\u001b[1;37m    ^\u001b[0m\n\u001b[1;31mSyntaxError\u001b[0m\u001b[1;31m:\u001b[0m invalid syntax\n"
     ]
    }
   ],
   "source": [
    "import pandas as pd\n",
    "import matplotlib.pyplot as plt\n",
    "\n",
    ">>> a = np.array([2, 1, 5, 7, 4, 6, 8, 14, 10, 9, 18, 20, 22])"
   ]
  },
  {
   "cell_type": "markdown",
   "metadata": {},
   "source": [
    "Jika Anda sudah menginstal Matplotlib, Anda dapat mengimpornya :"
   ]
  },
  {
   "cell_type": "code",
   "execution_count": null,
   "metadata": {},
   "outputs": [],
   "source": [
    ">>> import matplotlib.pyplot as plt"
   ]
  },
  {
   "cell_type": "markdown",
   "metadata": {},
   "source": [
    "# Jika Anda menggunakan Jupyter Notebook, Anda mungkin juga ingin menjalankan yang berikut ini Baris kode \n",
    "\n",
    "# untuk menampilkan kode Anda di buku catatan: %matplotlib sebaris"
   ]
  },
  {
   "cell_type": "markdown",
   "metadata": {},
   "source": [
    "Yang perlu Anda lakukan untuk memplot nilai Anda adalah menjalankannya :"
   ]
  },
  {
   "cell_type": "code",
   "execution_count": null,
   "metadata": {},
   "outputs": [],
   "source": [
    ">>> plt.plot(a)\n",
    "\n",
    "# Jika Anda menjalankan dari baris perintah, Anda mungkin perlu melakukan ini: # >>> plt.show()"
   ]
  },
  {
   "cell_type": "markdown",
   "metadata": {},
   "source": [
    "Contohnya, Anda bisa memplot larik 1D seperti ini :"
   ]
  },
  {
   "cell_type": "code",
   "execution_count": null,
   "metadata": {},
   "outputs": [],
   "source": [
    ">>> x = np.linspace(0, 5, 20)\n",
    ">>> y = np.linspace(0, 10, 20)\n",
    ">>> plt.plot(x, y, 'ungu') # baris\n",
    ">>> plt.plot(x, y, 'o') # titik-titik"
   ]
  },
  {
   "cell_type": "markdown",
   "metadata": {},
   "source": [
    "Dengan Matplotlib, Anda memiliki akses ke banyak sekali opsi visualisasi."
   ]
  },
  {
   "cell_type": "code",
   "execution_count": 120,
   "metadata": {},
   "outputs": [
    {
     "ename": "NameError",
     "evalue": "name 'plt' is not defined",
     "output_type": "error",
     "traceback": [
      "\u001b[1;31m---------------------------------------------------------------------------\u001b[0m",
      "\u001b[1;31mNameError\u001b[0m                                 Traceback (most recent call last)",
      "Cell \u001b[1;32mIn[120], line 1\u001b[0m\n\u001b[1;32m----> 1\u001b[0m fig \u001b[38;5;241m=\u001b[39m \u001b[43mplt\u001b[49m\u001b[38;5;241m.\u001b[39mfigure()\n\u001b[0;32m      2\u001b[0m ax \u001b[38;5;241m=\u001b[39m fig\u001b[38;5;241m.\u001b[39madd_subplot(proyeksi\u001b[38;5;241m=\u001b[39m\u001b[38;5;124m'\u001b[39m\u001b[38;5;124m3d\u001b[39m\u001b[38;5;124m'\u001b[39m)\n\u001b[0;32m      3\u001b[0m X \u001b[38;5;241m=\u001b[39m np\u001b[38;5;241m.\u001b[39marange(\u001b[38;5;241m-\u001b[39m\u001b[38;5;241m5\u001b[39m, \u001b[38;5;241m5\u001b[39m, \u001b[38;5;241m0.15\u001b[39m)\n",
      "\u001b[1;31mNameError\u001b[0m: name 'plt' is not defined"
     ]
    }
   ],
   "source": [
    ">>> fig = plt.figure()\n",
    ">>> ax = fig.add_subplot(proyeksi='3d')\n",
    ">>> X = np.arange(-5, 5, 0.15)\n",
    ">>> Y = np.arange(-5, 5, 0.15)\n",
    ">>> X, Y = np.meshgrid(X, Y)\n",
    ">>> R = np.sqrt(X**2 + Y**2)\n",
    ">>> Z = np.sin(R)\n",
    ">>> ax.plot_surface(X, Y, Z, rstride=1, cstride=1, cmap='viridis')"
   ]
  }
 ],
 "metadata": {
  "kernelspec": {
   "display_name": "Python 3",
   "language": "python",
   "name": "python3"
  },
  "language_info": {
   "codemirror_mode": {
    "name": "ipython",
    "version": 3
   },
   "file_extension": ".py",
   "mimetype": "text/x-python",
   "name": "python",
   "nbconvert_exporter": "python",
   "pygments_lexer": "ipython3",
   "version": "3.12.0"
  }
 },
 "nbformat": 4,
 "nbformat_minor": 2
}
